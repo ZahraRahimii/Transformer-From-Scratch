{
  "cells": [
    {
      "cell_type": "markdown",
      "id": "KMvA0SP4dhm-",
      "metadata": {
        "id": "KMvA0SP4dhm-"
      },
      "source": [
        "###  Installing Required Libraries\n",
        "\n",
        "After installation, you will need to **restart the runtime**.\n"
      ]
    },
    {
      "cell_type": "code",
      "execution_count": 1,
      "id": "bTfsww8v8xWr",
      "metadata": {
        "colab": {
          "base_uri": "https://localhost:8080/"
        },
        "id": "bTfsww8v8xWr",
        "outputId": "b933bf0a-189e-43df-a286-cb1737f17b82"
      },
      "outputs": [
        {
          "name": "stdout",
          "output_type": "stream",
          "text": [
            "Collecting torchtext==0.16.0\n",
            "  Downloading torchtext-0.16.0-cp311-cp311-manylinux1_x86_64.whl.metadata (7.5 kB)\n",
            "Requirement already satisfied: tqdm in /usr/local/lib/python3.11/dist-packages (from torchtext==0.16.0) (4.67.1)\n",
            "Requirement already satisfied: requests in /usr/local/lib/python3.11/dist-packages (from torchtext==0.16.0) (2.32.3)\n",
            "Collecting torch==2.1.0 (from torchtext==0.16.0)\n",
            "  Downloading torch-2.1.0-cp311-cp311-manylinux1_x86_64.whl.metadata (25 kB)\n",
            "Requirement already satisfied: numpy in /usr/local/lib/python3.11/dist-packages (from torchtext==0.16.0) (1.26.4)\n",
            "Collecting torchdata==0.7.0 (from torchtext==0.16.0)\n",
            "  Downloading torchdata-0.7.0-cp311-cp311-manylinux_2_17_x86_64.manylinux2014_x86_64.whl.metadata (13 kB)\n",
            "Requirement already satisfied: filelock in /usr/local/lib/python3.11/dist-packages (from torch==2.1.0->torchtext==0.16.0) (3.16.1)\n",
            "Requirement already satisfied: typing-extensions in /usr/local/lib/python3.11/dist-packages (from torch==2.1.0->torchtext==0.16.0) (4.12.2)\n",
            "Requirement already satisfied: sympy in /usr/local/lib/python3.11/dist-packages (from torch==2.1.0->torchtext==0.16.0) (1.13.1)\n",
            "Requirement already satisfied: networkx in /usr/local/lib/python3.11/dist-packages (from torch==2.1.0->torchtext==0.16.0) (3.4.2)\n",
            "Requirement already satisfied: jinja2 in /usr/local/lib/python3.11/dist-packages (from torch==2.1.0->torchtext==0.16.0) (3.1.5)\n",
            "Requirement already satisfied: fsspec in /usr/local/lib/python3.11/dist-packages (from torch==2.1.0->torchtext==0.16.0) (2024.10.0)\n",
            "Requirement already satisfied: nvidia-cuda-nvrtc-cu12==12.1.105 in /usr/local/lib/python3.11/dist-packages (from torch==2.1.0->torchtext==0.16.0) (12.1.105)\n",
            "Requirement already satisfied: nvidia-cuda-runtime-cu12==12.1.105 in /usr/local/lib/python3.11/dist-packages (from torch==2.1.0->torchtext==0.16.0) (12.1.105)\n",
            "Requirement already satisfied: nvidia-cuda-cupti-cu12==12.1.105 in /usr/local/lib/python3.11/dist-packages (from torch==2.1.0->torchtext==0.16.0) (12.1.105)\n",
            "Collecting nvidia-cudnn-cu12==8.9.2.26 (from torch==2.1.0->torchtext==0.16.0)\n",
            "  Downloading nvidia_cudnn_cu12-8.9.2.26-py3-none-manylinux1_x86_64.whl.metadata (1.6 kB)\n",
            "Requirement already satisfied: nvidia-cublas-cu12==12.1.3.1 in /usr/local/lib/python3.11/dist-packages (from torch==2.1.0->torchtext==0.16.0) (12.1.3.1)\n",
            "Requirement already satisfied: nvidia-cufft-cu12==11.0.2.54 in /usr/local/lib/python3.11/dist-packages (from torch==2.1.0->torchtext==0.16.0) (11.0.2.54)\n",
            "Requirement already satisfied: nvidia-curand-cu12==10.3.2.106 in /usr/local/lib/python3.11/dist-packages (from torch==2.1.0->torchtext==0.16.0) (10.3.2.106)\n",
            "Requirement already satisfied: nvidia-cusolver-cu12==11.4.5.107 in /usr/local/lib/python3.11/dist-packages (from torch==2.1.0->torchtext==0.16.0) (11.4.5.107)\n",
            "Requirement already satisfied: nvidia-cusparse-cu12==12.1.0.106 in /usr/local/lib/python3.11/dist-packages (from torch==2.1.0->torchtext==0.16.0) (12.1.0.106)\n",
            "Collecting nvidia-nccl-cu12==2.18.1 (from torch==2.1.0->torchtext==0.16.0)\n",
            "  Downloading nvidia_nccl_cu12-2.18.1-py3-none-manylinux1_x86_64.whl.metadata (1.8 kB)\n",
            "Requirement already satisfied: nvidia-nvtx-cu12==12.1.105 in /usr/local/lib/python3.11/dist-packages (from torch==2.1.0->torchtext==0.16.0) (12.1.105)\n",
            "Collecting triton==2.1.0 (from torch==2.1.0->torchtext==0.16.0)\n",
            "  Downloading triton-2.1.0-0-cp311-cp311-manylinux2014_x86_64.manylinux_2_17_x86_64.whl.metadata (1.3 kB)\n",
            "Requirement already satisfied: urllib3>=1.25 in /usr/local/lib/python3.11/dist-packages (from torchdata==0.7.0->torchtext==0.16.0) (2.3.0)\n",
            "Requirement already satisfied: nvidia-nvjitlink-cu12 in /usr/local/lib/python3.11/dist-packages (from nvidia-cusolver-cu12==11.4.5.107->torch==2.1.0->torchtext==0.16.0) (12.6.85)\n",
            "Requirement already satisfied: charset-normalizer<4,>=2 in /usr/local/lib/python3.11/dist-packages (from requests->torchtext==0.16.0) (3.4.1)\n",
            "Requirement already satisfied: idna<4,>=2.5 in /usr/local/lib/python3.11/dist-packages (from requests->torchtext==0.16.0) (3.10)\n",
            "Requirement already satisfied: certifi>=2017.4.17 in /usr/local/lib/python3.11/dist-packages (from requests->torchtext==0.16.0) (2024.12.14)\n",
            "Requirement already satisfied: MarkupSafe>=2.0 in /usr/local/lib/python3.11/dist-packages (from jinja2->torch==2.1.0->torchtext==0.16.0) (3.0.2)\n",
            "Requirement already satisfied: mpmath<1.4,>=1.1.0 in /usr/local/lib/python3.11/dist-packages (from sympy->torch==2.1.0->torchtext==0.16.0) (1.3.0)\n",
            "Downloading torchtext-0.16.0-cp311-cp311-manylinux1_x86_64.whl (2.0 MB)\n",
            "\u001b[2K   \u001b[90m━━━━━━━━━━━━━━━━━━━━━━━━━━━━━━━━━━━━━━━━\u001b[0m \u001b[32m2.0/2.0 MB\u001b[0m \u001b[31m47.4 MB/s\u001b[0m eta \u001b[36m0:00:00\u001b[0m\n",
            "\u001b[?25hDownloading torch-2.1.0-cp311-cp311-manylinux1_x86_64.whl (670.2 MB)\n",
            "\u001b[2K   \u001b[90m━━━━━━━━━━━━━━━━━━━━━━━━━━━━━━━━━━━━━━━━\u001b[0m \u001b[32m670.2/670.2 MB\u001b[0m \u001b[31m1.8 MB/s\u001b[0m eta \u001b[36m0:00:00\u001b[0m\n",
            "\u001b[?25hDownloading torchdata-0.7.0-cp311-cp311-manylinux_2_17_x86_64.manylinux2014_x86_64.whl (4.7 MB)\n",
            "\u001b[2K   \u001b[90m━━━━━━━━━━━━━━━━━━━━━━━━━━━━━━━━━━━━━━━━\u001b[0m \u001b[32m4.7/4.7 MB\u001b[0m \u001b[31m37.4 MB/s\u001b[0m eta \u001b[36m0:00:00\u001b[0m\n",
            "\u001b[?25hDownloading nvidia_cudnn_cu12-8.9.2.26-py3-none-manylinux1_x86_64.whl (731.7 MB)\n",
            "\u001b[2K   \u001b[90m━━━━━━━━━━━━━━━━━━━━━━━━━━━━━━━━━━━━━━━━\u001b[0m \u001b[32m731.7/731.7 MB\u001b[0m \u001b[31m2.5 MB/s\u001b[0m eta \u001b[36m0:00:00\u001b[0m\n",
            "\u001b[?25hDownloading nvidia_nccl_cu12-2.18.1-py3-none-manylinux1_x86_64.whl (209.8 MB)\n",
            "\u001b[2K   \u001b[90m━━━━━━━━━━━━━━━━━━━━━━━━━━━━━━━━━━━━━━━━\u001b[0m \u001b[32m209.8/209.8 MB\u001b[0m \u001b[31m5.5 MB/s\u001b[0m eta \u001b[36m0:00:00\u001b[0m\n",
            "\u001b[?25hDownloading triton-2.1.0-0-cp311-cp311-manylinux2014_x86_64.manylinux_2_17_x86_64.whl (89.2 MB)\n",
            "\u001b[2K   \u001b[90m━━━━━━━━━━━━━━━━━━━━━━━━━━━━━━━━━━━━━━━━\u001b[0m \u001b[32m89.2/89.2 MB\u001b[0m \u001b[31m9.8 MB/s\u001b[0m eta \u001b[36m0:00:00\u001b[0m\n",
            "\u001b[?25hInstalling collected packages: triton, nvidia-nccl-cu12, nvidia-cudnn-cu12, torch, torchdata, torchtext\n",
            "  Attempting uninstall: triton\n",
            "    Found existing installation: triton 3.1.0\n",
            "    Uninstalling triton-3.1.0:\n",
            "      Successfully uninstalled triton-3.1.0\n",
            "  Attempting uninstall: nvidia-nccl-cu12\n",
            "    Found existing installation: nvidia-nccl-cu12 2.21.5\n",
            "    Uninstalling nvidia-nccl-cu12-2.21.5:\n",
            "      Successfully uninstalled nvidia-nccl-cu12-2.21.5\n",
            "  Attempting uninstall: nvidia-cudnn-cu12\n",
            "    Found existing installation: nvidia-cudnn-cu12 9.1.0.70\n",
            "    Uninstalling nvidia-cudnn-cu12-9.1.0.70:\n",
            "      Successfully uninstalled nvidia-cudnn-cu12-9.1.0.70\n",
            "  Attempting uninstall: torch\n",
            "    Found existing installation: torch 2.5.1+cu121\n",
            "    Uninstalling torch-2.5.1+cu121:\n",
            "      Successfully uninstalled torch-2.5.1+cu121\n",
            "\u001b[31mERROR: pip's dependency resolver does not currently take into account all the packages that are installed. This behaviour is the source of the following dependency conflicts.\n",
            "torchvision 0.20.1+cu121 requires torch==2.5.1, but you have torch 2.1.0 which is incompatible.\n",
            "torchaudio 2.5.1+cu121 requires torch==2.5.1, but you have torch 2.1.0 which is incompatible.\u001b[0m\u001b[31m\n",
            "\u001b[0mSuccessfully installed nvidia-cudnn-cu12-8.9.2.26 nvidia-nccl-cu12-2.18.1 torch-2.1.0 torchdata-0.7.0 torchtext-0.16.0 triton-2.1.0\n"
          ]
        }
      ],
      "source": [
        "!pip install torchtext==0.16.0\n",
        "!pip install portalocker>=2.0.0"
      ]
    },
    {
      "cell_type": "markdown",
      "id": "iAjalQ-2C2D6",
      "metadata": {
        "id": "iAjalQ-2C2D6"
      },
      "source": [
        "# Part One: Implementing the Attention Module\n"
      ]
    },
    {
      "cell_type": "code",
      "execution_count": null,
      "id": "OZJaCkkwC2D8",
      "metadata": {
        "colab": {
          "base_uri": "https://localhost:8080/"
        },
        "id": "OZJaCkkwC2D8",
        "outputId": "57467f8d-d96e-442d-c400-e8fe943d4f5a"
      },
      "outputs": [
        {
          "name": "stdout",
          "output_type": "stream",
          "text": [
            "torch.Size([64, 10, 512])\n"
          ]
        }
      ],
      "source": [
        "import torch\n",
        "import torch.nn as nn\n",
        "import torch.nn.functional as F\n",
        "import math\n",
        "\n",
        "class SelfAttention(nn.Module):\n",
        "    def __init__(self, d_model, d_k, d_v):\n",
        "        super(SelfAttention, self).__init__()\n",
        "        self.query = nn.Linear(d_model, d_k)\n",
        "        self.key = nn.Linear(d_model, d_k)\n",
        "        self.value = nn.Linear(d_model, d_v)\n",
        "        self.scale = math.sqrt(d_k)\n",
        "\n",
        "    def apply_mask(self, attn_output, mask):\n",
        "        return attn_output * mask\n",
        "\n",
        "    def forward(self, x, mask=None):\n",
        "        Q = self.query(x)\n",
        "        K = self.key(x)\n",
        "        V = self.value(x)\n",
        "\n",
        "        scores = torch.matmul(Q, K.transpose(-2, -1)) / self.scale\n",
        "        if mask is not None:\n",
        "            scores = self.apply_mask(scores, mask)\n",
        "\n",
        "        attention_weights = F.softmax(scores, dim=-1)\n",
        "\n",
        "        output = torch.matmul(attention_weights, V)\n",
        "        return output\n",
        "\n",
        "class MultiHeadAttention(nn.Module):\n",
        "    def __init__(self, d_model, h, d_k, d_v):\n",
        "        super(MultiHeadAttention, self).__init__()\n",
        "        self.h = h\n",
        "        self.attention_heads = nn.ModuleList([SelfAttention(d_model, d_k, d_v) for _ in range(h)])\n",
        "        self.linear = nn.Linear(h * d_v, d_model)\n",
        "\n",
        "    def forward(self, x, mask=None):\n",
        "        head_outputs = []\n",
        "        head_outputs = [head(x, mask) for head in self.attention_heads]\n",
        "        concat_heads = torch.cat(head_outputs, dim=-1)\n",
        "        output = self.linear(concat_heads)\n",
        "\n",
        "        return output\n",
        "\n",
        "d = 512\n",
        "h = 8\n",
        "d_k = d // h\n",
        "d_v = d // h\n",
        "batch_size = 64\n",
        "seq_len = 10\n",
        "\n",
        "x = torch.randn(batch_size, seq_len, d)\n",
        "multi_head_attn = MultiHeadAttention(d_model=d, h=h, d_k=d_k, d_v=d_v)\n",
        "output = multi_head_attn(x)\n",
        "print(output.shape)  # expected: (64, 10, 512)"
      ]
    },
    {
      "cell_type": "markdown",
      "id": "vAOxXm_xC2D9",
      "metadata": {
        "id": "vAOxXm_xC2D9"
      },
      "source": [
        "# Part Two: Implementing the Feed Forward Module\n",
        "\n",
        "\n",
        "\n",
        "\n",
        "\n",
        "\n",
        "\n",
        "\n",
        "\n"
      ]
    },
    {
      "cell_type": "code",
      "execution_count": null,
      "id": "VFcbXXxCC2D-",
      "metadata": {
        "colab": {
          "base_uri": "https://localhost:8080/"
        },
        "id": "VFcbXXxCC2D-",
        "outputId": "9e3b6207-d171-4929-ff28-10e9c372ddeb"
      },
      "outputs": [
        {
          "name": "stdout",
          "output_type": "stream",
          "text": [
            "torch.Size([64, 10, 512])\n"
          ]
        }
      ],
      "source": [
        "class FeedForward(nn.Module):\n",
        "    def __init__(self, d_model, d_ff):\n",
        "        super(FeedForward, self).__init__()\n",
        "        self.linear1 = nn.Linear(d_model, d_ff)\n",
        "        self.relu = nn.ReLU()\n",
        "        self.linear2 = nn.Linear(d_ff, d_model)\n",
        "        self.layer_norm = nn.LayerNorm(d_model)\n",
        "\n",
        "    def forward(self, x):\n",
        "        out = self.layer_norm(self.linear2(self.relu(self.linear1(x))))\n",
        "        return out\n",
        "\n",
        "d = 512\n",
        "d_ff = 2048\n",
        "batch_size = 64\n",
        "seq_len = 10\n",
        "\n",
        "x = torch.randn(batch_size, seq_len, d)\n",
        "ff = FeedForward(d_model=d, d_ff=d_ff)\n",
        "output = ff(x)\n",
        "print(output.shape)  # expected: (64, 10, 512)"
      ]
    },
    {
      "cell_type": "markdown",
      "id": "5ABGMIMrC2D-",
      "metadata": {
        "id": "5ABGMIMrC2D-"
      },
      "source": [
        "# Part Three: Implementing the Encoder\n",
        "\n",
        "\n",
        "\n",
        "\n",
        "\n",
        "\n",
        "\n",
        "\n",
        "\n"
      ]
    },
    {
      "cell_type": "code",
      "execution_count": null,
      "id": "RCTQcIPiC2D-",
      "metadata": {
        "colab": {
          "base_uri": "https://localhost:8080/"
        },
        "id": "RCTQcIPiC2D-",
        "outputId": "fff14dc2-b0b9-45a7-bb64-9ff4745fea7c"
      },
      "outputs": [
        {
          "name": "stdout",
          "output_type": "stream",
          "text": [
            "torch.Size([64, 10, 512])\n"
          ]
        }
      ],
      "source": [
        "class EncoderLayer(nn.Module):\n",
        "    def __init__(self, d_model, h, d_ff):\n",
        "        super(EncoderLayer, self).__init__()\n",
        "        d_k = d_model // h\n",
        "        d_v = d_model // h\n",
        "        self.self_attention = MultiHeadAttention(d_model, h, d_k, d_v)\n",
        "        self.attention_norm = nn.LayerNorm(d_model)\n",
        "\n",
        "        self.feed_forward = FeedForward(d_model, d_ff)\n",
        "        self.feed_forward_nrom = nn.LayerNorm(d_model)\n",
        "\n",
        "    def forward(self, x, mask=None):\n",
        "        # Multi-Head Attention + Add & Norm\n",
        "        out = self.self_attention(x, mask)\n",
        "        x = self.attention_norm(out + x)\n",
        "        out = self.feed_forward(x)\n",
        "        x = self.feed_forward_nrom(out + x)\n",
        "        return x\n",
        "\n",
        "class Encoder(nn.Module):\n",
        "    def __init__(self, N_e, d_model, h, d_ff):\n",
        "        super(Encoder, self).__init__()\n",
        "        self.layers = nn.ModuleList([EncoderLayer(d_model, h, d_ff) for _ in range(N_e)])\n",
        "        self.layer_norm = nn.LayerNorm(d_model)\n",
        "\n",
        "    def forward(self, x, mask=None):\n",
        "        #TODO: Implement the forward pass of the encoder\n",
        "        for layer in self.layers:\n",
        "            x = layer(x, mask)\n",
        "        x = self.layer_norm(x)\n",
        "        return x\n",
        "\n",
        "N_e = 6\n",
        "d = 512\n",
        "h = 8\n",
        "d_ff = 2048\n",
        "batch_size = 64\n",
        "seq_len = 10\n",
        "\n",
        "x = torch.randn(batch_size, seq_len, d)\n",
        "encoder = Encoder(N_e=N_e, d_model=d, h=h, d_ff=d_ff)\n",
        "output = encoder(x)\n",
        "print(output.shape)  # expected: (64, 10, 512)"
      ]
    },
    {
      "cell_type": "markdown",
      "id": "WUW1qP7zC2D-",
      "metadata": {
        "id": "WUW1qP7zC2D-"
      },
      "source": [
        "# Part Four: Implementing the Decoder\n",
        "\n",
        "\n",
        "\n",
        "\n",
        "\n",
        "\n",
        "\n",
        "\n"
      ]
    },
    {
      "cell_type": "code",
      "execution_count": null,
      "id": "dvzg-SzTC2D_",
      "metadata": {
        "colab": {
          "base_uri": "https://localhost:8080/"
        },
        "id": "dvzg-SzTC2D_",
        "outputId": "dac0c8a8-ce43-404b-953c-08bf2deb544c"
      },
      "outputs": [
        {
          "name": "stdout",
          "output_type": "stream",
          "text": [
            "torch.Size([64, 10, 512])\n"
          ]
        }
      ],
      "source": [
        "class DecoderLayer(nn.Module):\n",
        "    def __init__(self, d_model, h, d_ff):\n",
        "        super(DecoderLayer, self).__init__()\n",
        "        #TODO: Define the layers needed for the decoder layer\n",
        "        d_k = d_model // h\n",
        "        d_v = d_model // h\n",
        "        self.self_attention = MultiHeadAttention(d_model, h, d_k, d_v)\n",
        "        self.attention_norm = nn.LayerNorm(d_model)\n",
        "\n",
        "        self.cross_attention = MultiHeadAttention(d_model, h, d_k, d_v)\n",
        "        self.cross_attention_norm = nn.LayerNorm(d_model)\n",
        "\n",
        "        self.feed_forward = FeedForward(d_model, d_ff)\n",
        "        self.feed_forward_norm = nn.LayerNorm(d_model)\n",
        "\n",
        "    def forward(self, x, encoder_output, src_mask=None, tgt_mask=None):\n",
        "        #TODO: Implement the forward pass of the decoder layer\n",
        "        # Self-Attention with masking + Add & Norm\n",
        "        attn_output = self.self_attention(x, mask=tgt_mask)\n",
        "        x = self.attention_norm(attn_output + x)\n",
        "\n",
        "        # Cross-Attention + Add & Norm\n",
        "        cross_attn_out = self.cross_attention(encoder_output, mask=src_mask)\n",
        "        if cross_attn_out.shape[1] > x.shape[1]:\n",
        "            padding = cross_attn_out.shape[1] - x.shape[1]\n",
        "            x = torch.nn.functional.pad(x, (0, 0, 0, padding))\n",
        "        x = self.cross_attention_norm(cross_attn_out + x)\n",
        "\n",
        "        # Feed Forward + Add & Norm\n",
        "        ff_out = self.feed_forward(x)\n",
        "        x = self.feed_forward_norm(ff_out + x)\n",
        "        return x\n",
        "\n",
        "class Decoder(nn.Module):\n",
        "    def __init__(self, N_d, d_model, h, d_ff):\n",
        "        super(Decoder, self).__init__()\n",
        "        self.layers = nn.ModuleList([DecoderLayer(d_model, h, d_ff) for _ in range(N_d)])\n",
        "        self.layer_norm = nn.LayerNorm(d_model)\n",
        "\n",
        "    def forward(self, x, encoder_output, src_mask=None, tgt_mask=None):\n",
        "        #TODO: Implement the forward pass of the decoder\n",
        "        for layer in self.layers:\n",
        "            x = layer(x, encoder_output, tgt_mask, src_mask)\n",
        "        return self.layer_norm(x)\n",
        "        return x\n",
        "\n",
        "N_d = 6\n",
        "d = 512\n",
        "h = 8\n",
        "d_ff = 2048\n",
        "batch_size = 64\n",
        "tgt_seq_len = 10\n",
        "src_seq_len = 10\n",
        "\n",
        "x = torch.randn(batch_size, tgt_seq_len, d)\n",
        "encoder_output = torch.randn(batch_size, src_seq_len, d)\n",
        "decoder = Decoder(N_d=N_d, d_model=d, h=h, d_ff=d_ff)\n",
        "output = decoder(x, encoder_output)\n",
        "print(output.shape)  # expected: (64, 10, 512)"
      ]
    },
    {
      "cell_type": "markdown",
      "id": "ippE-DPwC2D_",
      "metadata": {
        "id": "ippE-DPwC2D_"
      },
      "source": [
        "# Implementing Embedding, Positional Encoding\n",
        "\n"
      ]
    },
    {
      "cell_type": "code",
      "execution_count": null,
      "id": "SX96yUxUC2D_",
      "metadata": {
        "colab": {
          "base_uri": "https://localhost:8080/"
        },
        "id": "SX96yUxUC2D_",
        "outputId": "e7a7c9cb-b9ee-4a30-bc79-498066b71fdd"
      },
      "outputs": [
        {
          "name": "stdout",
          "output_type": "stream",
          "text": [
            "torch.Size([64, 20, 512])\n"
          ]
        }
      ],
      "source": [
        "class PositionalEncoding(nn.Module):\n",
        "    def __init__(self, d_model, max_len=5000):\n",
        "        super(PositionalEncoding, self).__init__()\n",
        "        #TODO: Implement the positional encoding\n",
        "        self.pe = torch.zeros(max_len, d_model)\n",
        "        position = torch.arange(0, max_len, dtype=torch.float).unsqueeze(1)\n",
        "        div_term = torch.exp(torch.arange(0, d_model, 2).float() * (-math.log(10000.0) / d_model))\n",
        "\n",
        "        self.pe[:, 0::2] = torch.sin(position * div_term)\n",
        "        self.pe[:, 1::2] = torch.cos(position * div_term)\n",
        "        self.pe = self.pe.unsqueeze(0)\n",
        "\n",
        "    def forward(self, x):\n",
        "        # x: (batch, seq_len, d_model)\n",
        "        x = x + self.pe[:, :x.size(1), :].to(x.device)\n",
        "        return x\n",
        "\n",
        "class EmbeddingWithPositionalEncoding(nn.Module):\n",
        "    def __init__(self, vocab_size, d_model, max_len=5000):\n",
        "        super(EmbeddingWithPositionalEncoding, self).__init__()\n",
        "        #TODO: Implement the embedding layer with positional encoding\n",
        "        self.embedding = nn.Embedding(vocab_size, d_model)\n",
        "        self.pos_encoding = PositionalEncoding(d_model, max_len)\n",
        "\n",
        "    def forward(self, x):\n",
        "        x = self.embedding(x)  # (batch, seq_len, d_model)\n",
        "        x = self.pos_encoding(x)\n",
        "        return x\n",
        "\n",
        "vocab_size = 10000\n",
        "d = 512\n",
        "max_len = 100\n",
        "batch_size = 64\n",
        "seq_len = 20\n",
        "\n",
        "x = torch.randint(0, vocab_size, (batch_size, seq_len))\n",
        "embedding_pe = EmbeddingWithPositionalEncoding(vocab_size=vocab_size, d_model=d, max_len=max_len)\n",
        "output = embedding_pe(x)\n",
        "print(output.shape)  # expected: (64, 20, 512)"
      ]
    },
    {
      "cell_type": "markdown",
      "id": "hdKyvmSqC2D_",
      "metadata": {
        "id": "hdKyvmSqC2D_"
      },
      "source": [
        "# Part Six: Designing the Overall Model Architecture\n",
        "\n",
        "\n",
        "\n",
        "\n",
        "\n",
        "\n",
        "\n",
        "\n",
        "\n"
      ]
    },
    {
      "cell_type": "code",
      "execution_count": null,
      "id": "1HPt5IMHC2D_",
      "metadata": {
        "colab": {
          "base_uri": "https://localhost:8080/"
        },
        "id": "1HPt5IMHC2D_",
        "outputId": "14601ff2-c573-4474-9a88-60a70f8fad62"
      },
      "outputs": [
        {
          "name": "stdout",
          "output_type": "stream",
          "text": [
            "torch.Size([64, 20, 10000])\n"
          ]
        }
      ],
      "source": [
        "class TransformerModel(nn.Module):\n",
        "    def __init__(self, src_vocab_size, tgt_vocab_size, N_e, N_d, d_model, h, d_ff, max_len):\n",
        "        super(TransformerModel, self).__init__()\n",
        "        # Define encoder, decoder, and other components here\n",
        "        self.encoder = Encoder(N_e=N_e, d_model=d_model, h=h, d_ff=d_ff)\n",
        "        self.decoder = Decoder(N_d=N_d, d_model=d_model, h=h, d_ff=d_ff)\n",
        "        self.src_embedding = nn.Embedding(src_vocab_size, d_model)\n",
        "        self.tgt_embedding = nn.Embedding(tgt_vocab_size, d_model)\n",
        "        self.fc_out = nn.Linear(d_model, tgt_vocab_size)\n",
        "        self.positional_encoding = PositionalEncoding(d_model=d_model, max_len=max_len)\n",
        "\n",
        "    def forward(self, src, tgt, src_mask=None, tgt_mask=None):\n",
        "        # src: (batch_size, src_seq_len)\n",
        "        src_embed = self.src_embedding(src)\n",
        "        src_embed = self.positional_encoding(src_embed)\n",
        "        enc_out = self.encoder(src_embed)\n",
        "\n",
        "        # tgt: (batch_size, tgt_seq_len)\n",
        "        tgt_embed = self.tgt_embedding(tgt)\n",
        "        tgt_embed = self.positional_encoding(tgt_embed)\n",
        "        dec_out = self.decoder(tgt_embed, enc_out)\n",
        "\n",
        "        #TODO: Define Forward pass of Transformer model\n",
        "        output = self.fc_out(dec_out)\n",
        "        return output  # (batch_size, tgt_seq_len, tgt_vocab_size)\n",
        "\n",
        "src_vocab_size = 10000\n",
        "tgt_vocab_size = 10000\n",
        "N_e = 6\n",
        "N_d = 6\n",
        "d_model = 512\n",
        "h = 8\n",
        "d_ff = 2048\n",
        "max_len = 100\n",
        "batch_size = 64\n",
        "src_seq_len = 20\n",
        "tgt_seq_len = 20\n",
        "\n",
        "src = torch.randint(0, src_vocab_size, (batch_size, src_seq_len))\n",
        "tgt = torch.randint(0, tgt_vocab_size, (batch_size, tgt_seq_len))\n",
        "\n",
        "model = TransformerModel(src_vocab_size=src_vocab_size,\n",
        "                        tgt_vocab_size=tgt_vocab_size,\n",
        "                        N_e=N_e,\n",
        "                        N_d=N_d,\n",
        "                        d_model=d_model,\n",
        "                        h=h,\n",
        "                        d_ff=d_ff,\n",
        "                        max_len=max_len)\n",
        "\n",
        "output = model(src, tgt)\n",
        "print(output.shape)  # expected: (64, 20, 10000)"
      ]
    },
    {
      "cell_type": "markdown",
      "id": "YER8MjxGC2EA",
      "metadata": {
        "id": "YER8MjxGC2EA"
      },
      "source": [
        "# Part Seven: Training and Evaluating the Model with Prepared Data\n",
        "\n",
        "\n",
        "\n",
        "\n",
        "\n",
        "\n",
        "\n",
        "\n",
        "\n"
      ]
    },
    {
      "cell_type": "markdown",
      "id": "r4lTPN_bfnjt",
      "metadata": {
        "id": "r4lTPN_bfnjt"
      },
      "source": [
        "## Loading the required library for the English-German dataset\n",
        "\n",
        "\n",
        "\n",
        "\n",
        "\n",
        "\n",
        "\n",
        "\n"
      ]
    },
    {
      "cell_type": "code",
      "execution_count": 8,
      "id": "8bb6e720",
      "metadata": {
        "colab": {
          "base_uri": "https://localhost:8080/"
        },
        "id": "8bb6e720",
        "outputId": "6ec54f13-3b49-4e92-a775-b976a3f6d6d7"
      },
      "outputs": [
        {
          "data": {
            "text/plain": [
              "True"
            ]
          },
          "execution_count": 8,
          "metadata": {},
          "output_type": "execute_result"
        }
      ],
      "source": [
        "torch.cuda.is_available()"
      ]
    },
    {
      "cell_type": "code",
      "execution_count": 9,
      "id": "ccif3wfvE8Sd",
      "metadata": {
        "colab": {
          "base_uri": "https://localhost:8080/"
        },
        "id": "ccif3wfvE8Sd",
        "outputId": "6af5018a-ed5c-4934-afe5-e61039b000cb"
      },
      "outputs": [
        {
          "name": "stdout",
          "output_type": "stream",
          "text": [
            "Collecting en-core-web-sm==3.7.1\n",
            "  Downloading https://github.com/explosion/spacy-models/releases/download/en_core_web_sm-3.7.1/en_core_web_sm-3.7.1-py3-none-any.whl (12.8 MB)\n",
            "\u001b[2K     \u001b[90m━━━━━━━━━━━━━━━━━━━━━━━━━━━━━━━━━━━━━━━━\u001b[0m \u001b[32m12.8/12.8 MB\u001b[0m \u001b[31m33.6 MB/s\u001b[0m eta \u001b[36m0:00:00\u001b[0m\n",
            "\u001b[?25hRequirement already satisfied: spacy<3.8.0,>=3.7.2 in /usr/local/lib/python3.11/dist-packages (from en-core-web-sm==3.7.1) (3.7.5)\n",
            "Requirement already satisfied: spacy-legacy<3.1.0,>=3.0.11 in /usr/local/lib/python3.11/dist-packages (from spacy<3.8.0,>=3.7.2->en-core-web-sm==3.7.1) (3.0.12)\n",
            "Requirement already satisfied: spacy-loggers<2.0.0,>=1.0.0 in /usr/local/lib/python3.11/dist-packages (from spacy<3.8.0,>=3.7.2->en-core-web-sm==3.7.1) (1.0.5)\n",
            "Requirement already satisfied: murmurhash<1.1.0,>=0.28.0 in /usr/local/lib/python3.11/dist-packages (from spacy<3.8.0,>=3.7.2->en-core-web-sm==3.7.1) (1.0.11)\n",
            "Requirement already satisfied: cymem<2.1.0,>=2.0.2 in /usr/local/lib/python3.11/dist-packages (from spacy<3.8.0,>=3.7.2->en-core-web-sm==3.7.1) (2.0.10)\n",
            "Requirement already satisfied: preshed<3.1.0,>=3.0.2 in /usr/local/lib/python3.11/dist-packages (from spacy<3.8.0,>=3.7.2->en-core-web-sm==3.7.1) (3.0.9)\n",
            "Requirement already satisfied: thinc<8.3.0,>=8.2.2 in /usr/local/lib/python3.11/dist-packages (from spacy<3.8.0,>=3.7.2->en-core-web-sm==3.7.1) (8.2.5)\n",
            "Requirement already satisfied: wasabi<1.2.0,>=0.9.1 in /usr/local/lib/python3.11/dist-packages (from spacy<3.8.0,>=3.7.2->en-core-web-sm==3.7.1) (1.1.3)\n",
            "Requirement already satisfied: srsly<3.0.0,>=2.4.3 in /usr/local/lib/python3.11/dist-packages (from spacy<3.8.0,>=3.7.2->en-core-web-sm==3.7.1) (2.5.0)\n",
            "Requirement already satisfied: catalogue<2.1.0,>=2.0.6 in /usr/local/lib/python3.11/dist-packages (from spacy<3.8.0,>=3.7.2->en-core-web-sm==3.7.1) (2.0.10)\n",
            "Requirement already satisfied: weasel<0.5.0,>=0.1.0 in /usr/local/lib/python3.11/dist-packages (from spacy<3.8.0,>=3.7.2->en-core-web-sm==3.7.1) (0.4.1)\n",
            "Requirement already satisfied: typer<1.0.0,>=0.3.0 in /usr/local/lib/python3.11/dist-packages (from spacy<3.8.0,>=3.7.2->en-core-web-sm==3.7.1) (0.15.1)\n",
            "Requirement already satisfied: tqdm<5.0.0,>=4.38.0 in /usr/local/lib/python3.11/dist-packages (from spacy<3.8.0,>=3.7.2->en-core-web-sm==3.7.1) (4.67.1)\n",
            "Requirement already satisfied: requests<3.0.0,>=2.13.0 in /usr/local/lib/python3.11/dist-packages (from spacy<3.8.0,>=3.7.2->en-core-web-sm==3.7.1) (2.32.3)\n",
            "Requirement already satisfied: pydantic!=1.8,!=1.8.1,<3.0.0,>=1.7.4 in /usr/local/lib/python3.11/dist-packages (from spacy<3.8.0,>=3.7.2->en-core-web-sm==3.7.1) (2.10.5)\n",
            "Requirement already satisfied: jinja2 in /usr/local/lib/python3.11/dist-packages (from spacy<3.8.0,>=3.7.2->en-core-web-sm==3.7.1) (3.1.5)\n",
            "Requirement already satisfied: setuptools in /usr/local/lib/python3.11/dist-packages (from spacy<3.8.0,>=3.7.2->en-core-web-sm==3.7.1) (75.1.0)\n",
            "Requirement already satisfied: packaging>=20.0 in /usr/local/lib/python3.11/dist-packages (from spacy<3.8.0,>=3.7.2->en-core-web-sm==3.7.1) (24.2)\n",
            "Requirement already satisfied: langcodes<4.0.0,>=3.2.0 in /usr/local/lib/python3.11/dist-packages (from spacy<3.8.0,>=3.7.2->en-core-web-sm==3.7.1) (3.5.0)\n",
            "Requirement already satisfied: numpy>=1.19.0 in /usr/local/lib/python3.11/dist-packages (from spacy<3.8.0,>=3.7.2->en-core-web-sm==3.7.1) (1.26.4)\n",
            "Requirement already satisfied: language-data>=1.2 in /usr/local/lib/python3.11/dist-packages (from langcodes<4.0.0,>=3.2.0->spacy<3.8.0,>=3.7.2->en-core-web-sm==3.7.1) (1.3.0)\n",
            "Requirement already satisfied: annotated-types>=0.6.0 in /usr/local/lib/python3.11/dist-packages (from pydantic!=1.8,!=1.8.1,<3.0.0,>=1.7.4->spacy<3.8.0,>=3.7.2->en-core-web-sm==3.7.1) (0.7.0)\n",
            "Requirement already satisfied: pydantic-core==2.27.2 in /usr/local/lib/python3.11/dist-packages (from pydantic!=1.8,!=1.8.1,<3.0.0,>=1.7.4->spacy<3.8.0,>=3.7.2->en-core-web-sm==3.7.1) (2.27.2)\n",
            "Requirement already satisfied: typing-extensions>=4.12.2 in /usr/local/lib/python3.11/dist-packages (from pydantic!=1.8,!=1.8.1,<3.0.0,>=1.7.4->spacy<3.8.0,>=3.7.2->en-core-web-sm==3.7.1) (4.12.2)\n",
            "Requirement already satisfied: charset-normalizer<4,>=2 in /usr/local/lib/python3.11/dist-packages (from requests<3.0.0,>=2.13.0->spacy<3.8.0,>=3.7.2->en-core-web-sm==3.7.1) (3.4.1)\n",
            "Requirement already satisfied: idna<4,>=2.5 in /usr/local/lib/python3.11/dist-packages (from requests<3.0.0,>=2.13.0->spacy<3.8.0,>=3.7.2->en-core-web-sm==3.7.1) (3.10)\n",
            "Requirement already satisfied: urllib3<3,>=1.21.1 in /usr/local/lib/python3.11/dist-packages (from requests<3.0.0,>=2.13.0->spacy<3.8.0,>=3.7.2->en-core-web-sm==3.7.1) (2.3.0)\n",
            "Requirement already satisfied: certifi>=2017.4.17 in /usr/local/lib/python3.11/dist-packages (from requests<3.0.0,>=2.13.0->spacy<3.8.0,>=3.7.2->en-core-web-sm==3.7.1) (2024.12.14)\n",
            "Requirement already satisfied: blis<0.8.0,>=0.7.8 in /usr/local/lib/python3.11/dist-packages (from thinc<8.3.0,>=8.2.2->spacy<3.8.0,>=3.7.2->en-core-web-sm==3.7.1) (0.7.11)\n",
            "Requirement already satisfied: confection<1.0.0,>=0.0.1 in /usr/local/lib/python3.11/dist-packages (from thinc<8.3.0,>=8.2.2->spacy<3.8.0,>=3.7.2->en-core-web-sm==3.7.1) (0.1.5)\n",
            "Requirement already satisfied: click>=8.0.0 in /usr/local/lib/python3.11/dist-packages (from typer<1.0.0,>=0.3.0->spacy<3.8.0,>=3.7.2->en-core-web-sm==3.7.1) (8.1.8)\n",
            "Requirement already satisfied: shellingham>=1.3.0 in /usr/local/lib/python3.11/dist-packages (from typer<1.0.0,>=0.3.0->spacy<3.8.0,>=3.7.2->en-core-web-sm==3.7.1) (1.5.4)\n",
            "Requirement already satisfied: rich>=10.11.0 in /usr/local/lib/python3.11/dist-packages (from typer<1.0.0,>=0.3.0->spacy<3.8.0,>=3.7.2->en-core-web-sm==3.7.1) (13.9.4)\n",
            "Requirement already satisfied: cloudpathlib<1.0.0,>=0.7.0 in /usr/local/lib/python3.11/dist-packages (from weasel<0.5.0,>=0.1.0->spacy<3.8.0,>=3.7.2->en-core-web-sm==3.7.1) (0.20.0)\n",
            "Requirement already satisfied: smart-open<8.0.0,>=5.2.1 in /usr/local/lib/python3.11/dist-packages (from weasel<0.5.0,>=0.1.0->spacy<3.8.0,>=3.7.2->en-core-web-sm==3.7.1) (7.1.0)\n",
            "Requirement already satisfied: MarkupSafe>=2.0 in /usr/local/lib/python3.11/dist-packages (from jinja2->spacy<3.8.0,>=3.7.2->en-core-web-sm==3.7.1) (3.0.2)\n",
            "Requirement already satisfied: marisa-trie>=1.1.0 in /usr/local/lib/python3.11/dist-packages (from language-data>=1.2->langcodes<4.0.0,>=3.2.0->spacy<3.8.0,>=3.7.2->en-core-web-sm==3.7.1) (1.2.1)\n",
            "Requirement already satisfied: markdown-it-py>=2.2.0 in /usr/local/lib/python3.11/dist-packages (from rich>=10.11.0->typer<1.0.0,>=0.3.0->spacy<3.8.0,>=3.7.2->en-core-web-sm==3.7.1) (3.0.0)\n",
            "Requirement already satisfied: pygments<3.0.0,>=2.13.0 in /usr/local/lib/python3.11/dist-packages (from rich>=10.11.0->typer<1.0.0,>=0.3.0->spacy<3.8.0,>=3.7.2->en-core-web-sm==3.7.1) (2.18.0)\n",
            "Requirement already satisfied: wrapt in /usr/local/lib/python3.11/dist-packages (from smart-open<8.0.0,>=5.2.1->weasel<0.5.0,>=0.1.0->spacy<3.8.0,>=3.7.2->en-core-web-sm==3.7.1) (1.17.0)\n",
            "Requirement already satisfied: mdurl~=0.1 in /usr/local/lib/python3.11/dist-packages (from markdown-it-py>=2.2.0->rich>=10.11.0->typer<1.0.0,>=0.3.0->spacy<3.8.0,>=3.7.2->en-core-web-sm==3.7.1) (0.1.2)\n",
            "\u001b[38;5;2m✔ Download and installation successful\u001b[0m\n",
            "You can now load the package via spacy.load('en_core_web_sm')\n",
            "\u001b[38;5;3m⚠ Restart to reload dependencies\u001b[0m\n",
            "If you are in a Jupyter or Colab notebook, you may need to restart Python in\n",
            "order to load all the package's dependencies. You can do this by selecting the\n",
            "'Restart kernel' or 'Restart runtime' option.\n",
            "Collecting de-core-news-sm==3.7.0\n",
            "  Downloading https://github.com/explosion/spacy-models/releases/download/de_core_news_sm-3.7.0/de_core_news_sm-3.7.0-py3-none-any.whl (14.6 MB)\n",
            "\u001b[2K     \u001b[90m━━━━━━━━━━━━━━━━━━━━━━━━━━━━━━━━━━━━━━━━\u001b[0m \u001b[32m14.6/14.6 MB\u001b[0m \u001b[31m97.3 MB/s\u001b[0m eta \u001b[36m0:00:00\u001b[0m\n",
            "\u001b[?25hRequirement already satisfied: spacy<3.8.0,>=3.7.0 in /usr/local/lib/python3.11/dist-packages (from de-core-news-sm==3.7.0) (3.7.5)\n",
            "Requirement already satisfied: spacy-legacy<3.1.0,>=3.0.11 in /usr/local/lib/python3.11/dist-packages (from spacy<3.8.0,>=3.7.0->de-core-news-sm==3.7.0) (3.0.12)\n",
            "Requirement already satisfied: spacy-loggers<2.0.0,>=1.0.0 in /usr/local/lib/python3.11/dist-packages (from spacy<3.8.0,>=3.7.0->de-core-news-sm==3.7.0) (1.0.5)\n",
            "Requirement already satisfied: murmurhash<1.1.0,>=0.28.0 in /usr/local/lib/python3.11/dist-packages (from spacy<3.8.0,>=3.7.0->de-core-news-sm==3.7.0) (1.0.11)\n",
            "Requirement already satisfied: cymem<2.1.0,>=2.0.2 in /usr/local/lib/python3.11/dist-packages (from spacy<3.8.0,>=3.7.0->de-core-news-sm==3.7.0) (2.0.10)\n",
            "Requirement already satisfied: preshed<3.1.0,>=3.0.2 in /usr/local/lib/python3.11/dist-packages (from spacy<3.8.0,>=3.7.0->de-core-news-sm==3.7.0) (3.0.9)\n",
            "Requirement already satisfied: thinc<8.3.0,>=8.2.2 in /usr/local/lib/python3.11/dist-packages (from spacy<3.8.0,>=3.7.0->de-core-news-sm==3.7.0) (8.2.5)\n",
            "Requirement already satisfied: wasabi<1.2.0,>=0.9.1 in /usr/local/lib/python3.11/dist-packages (from spacy<3.8.0,>=3.7.0->de-core-news-sm==3.7.0) (1.1.3)\n",
            "Requirement already satisfied: srsly<3.0.0,>=2.4.3 in /usr/local/lib/python3.11/dist-packages (from spacy<3.8.0,>=3.7.0->de-core-news-sm==3.7.0) (2.5.0)\n",
            "Requirement already satisfied: catalogue<2.1.0,>=2.0.6 in /usr/local/lib/python3.11/dist-packages (from spacy<3.8.0,>=3.7.0->de-core-news-sm==3.7.0) (2.0.10)\n",
            "Requirement already satisfied: weasel<0.5.0,>=0.1.0 in /usr/local/lib/python3.11/dist-packages (from spacy<3.8.0,>=3.7.0->de-core-news-sm==3.7.0) (0.4.1)\n",
            "Requirement already satisfied: typer<1.0.0,>=0.3.0 in /usr/local/lib/python3.11/dist-packages (from spacy<3.8.0,>=3.7.0->de-core-news-sm==3.7.0) (0.15.1)\n",
            "Requirement already satisfied: tqdm<5.0.0,>=4.38.0 in /usr/local/lib/python3.11/dist-packages (from spacy<3.8.0,>=3.7.0->de-core-news-sm==3.7.0) (4.67.1)\n",
            "Requirement already satisfied: requests<3.0.0,>=2.13.0 in /usr/local/lib/python3.11/dist-packages (from spacy<3.8.0,>=3.7.0->de-core-news-sm==3.7.0) (2.32.3)\n",
            "Requirement already satisfied: pydantic!=1.8,!=1.8.1,<3.0.0,>=1.7.4 in /usr/local/lib/python3.11/dist-packages (from spacy<3.8.0,>=3.7.0->de-core-news-sm==3.7.0) (2.10.5)\n",
            "Requirement already satisfied: jinja2 in /usr/local/lib/python3.11/dist-packages (from spacy<3.8.0,>=3.7.0->de-core-news-sm==3.7.0) (3.1.5)\n",
            "Requirement already satisfied: setuptools in /usr/local/lib/python3.11/dist-packages (from spacy<3.8.0,>=3.7.0->de-core-news-sm==3.7.0) (75.1.0)\n",
            "Requirement already satisfied: packaging>=20.0 in /usr/local/lib/python3.11/dist-packages (from spacy<3.8.0,>=3.7.0->de-core-news-sm==3.7.0) (24.2)\n",
            "Requirement already satisfied: langcodes<4.0.0,>=3.2.0 in /usr/local/lib/python3.11/dist-packages (from spacy<3.8.0,>=3.7.0->de-core-news-sm==3.7.0) (3.5.0)\n",
            "Requirement already satisfied: numpy>=1.19.0 in /usr/local/lib/python3.11/dist-packages (from spacy<3.8.0,>=3.7.0->de-core-news-sm==3.7.0) (1.26.4)\n",
            "Requirement already satisfied: language-data>=1.2 in /usr/local/lib/python3.11/dist-packages (from langcodes<4.0.0,>=3.2.0->spacy<3.8.0,>=3.7.0->de-core-news-sm==3.7.0) (1.3.0)\n",
            "Requirement already satisfied: annotated-types>=0.6.0 in /usr/local/lib/python3.11/dist-packages (from pydantic!=1.8,!=1.8.1,<3.0.0,>=1.7.4->spacy<3.8.0,>=3.7.0->de-core-news-sm==3.7.0) (0.7.0)\n",
            "Requirement already satisfied: pydantic-core==2.27.2 in /usr/local/lib/python3.11/dist-packages (from pydantic!=1.8,!=1.8.1,<3.0.0,>=1.7.4->spacy<3.8.0,>=3.7.0->de-core-news-sm==3.7.0) (2.27.2)\n",
            "Requirement already satisfied: typing-extensions>=4.12.2 in /usr/local/lib/python3.11/dist-packages (from pydantic!=1.8,!=1.8.1,<3.0.0,>=1.7.4->spacy<3.8.0,>=3.7.0->de-core-news-sm==3.7.0) (4.12.2)\n",
            "Requirement already satisfied: charset-normalizer<4,>=2 in /usr/local/lib/python3.11/dist-packages (from requests<3.0.0,>=2.13.0->spacy<3.8.0,>=3.7.0->de-core-news-sm==3.7.0) (3.4.1)\n",
            "Requirement already satisfied: idna<4,>=2.5 in /usr/local/lib/python3.11/dist-packages (from requests<3.0.0,>=2.13.0->spacy<3.8.0,>=3.7.0->de-core-news-sm==3.7.0) (3.10)\n",
            "Requirement already satisfied: urllib3<3,>=1.21.1 in /usr/local/lib/python3.11/dist-packages (from requests<3.0.0,>=2.13.0->spacy<3.8.0,>=3.7.0->de-core-news-sm==3.7.0) (2.3.0)\n",
            "Requirement already satisfied: certifi>=2017.4.17 in /usr/local/lib/python3.11/dist-packages (from requests<3.0.0,>=2.13.0->spacy<3.8.0,>=3.7.0->de-core-news-sm==3.7.0) (2024.12.14)\n",
            "Requirement already satisfied: blis<0.8.0,>=0.7.8 in /usr/local/lib/python3.11/dist-packages (from thinc<8.3.0,>=8.2.2->spacy<3.8.0,>=3.7.0->de-core-news-sm==3.7.0) (0.7.11)\n",
            "Requirement already satisfied: confection<1.0.0,>=0.0.1 in /usr/local/lib/python3.11/dist-packages (from thinc<8.3.0,>=8.2.2->spacy<3.8.0,>=3.7.0->de-core-news-sm==3.7.0) (0.1.5)\n",
            "Requirement already satisfied: click>=8.0.0 in /usr/local/lib/python3.11/dist-packages (from typer<1.0.0,>=0.3.0->spacy<3.8.0,>=3.7.0->de-core-news-sm==3.7.0) (8.1.8)\n",
            "Requirement already satisfied: shellingham>=1.3.0 in /usr/local/lib/python3.11/dist-packages (from typer<1.0.0,>=0.3.0->spacy<3.8.0,>=3.7.0->de-core-news-sm==3.7.0) (1.5.4)\n",
            "Requirement already satisfied: rich>=10.11.0 in /usr/local/lib/python3.11/dist-packages (from typer<1.0.0,>=0.3.0->spacy<3.8.0,>=3.7.0->de-core-news-sm==3.7.0) (13.9.4)\n",
            "Requirement already satisfied: cloudpathlib<1.0.0,>=0.7.0 in /usr/local/lib/python3.11/dist-packages (from weasel<0.5.0,>=0.1.0->spacy<3.8.0,>=3.7.0->de-core-news-sm==3.7.0) (0.20.0)\n",
            "Requirement already satisfied: smart-open<8.0.0,>=5.2.1 in /usr/local/lib/python3.11/dist-packages (from weasel<0.5.0,>=0.1.0->spacy<3.8.0,>=3.7.0->de-core-news-sm==3.7.0) (7.1.0)\n",
            "Requirement already satisfied: MarkupSafe>=2.0 in /usr/local/lib/python3.11/dist-packages (from jinja2->spacy<3.8.0,>=3.7.0->de-core-news-sm==3.7.0) (3.0.2)\n",
            "Requirement already satisfied: marisa-trie>=1.1.0 in /usr/local/lib/python3.11/dist-packages (from language-data>=1.2->langcodes<4.0.0,>=3.2.0->spacy<3.8.0,>=3.7.0->de-core-news-sm==3.7.0) (1.2.1)\n",
            "Requirement already satisfied: markdown-it-py>=2.2.0 in /usr/local/lib/python3.11/dist-packages (from rich>=10.11.0->typer<1.0.0,>=0.3.0->spacy<3.8.0,>=3.7.0->de-core-news-sm==3.7.0) (3.0.0)\n",
            "Requirement already satisfied: pygments<3.0.0,>=2.13.0 in /usr/local/lib/python3.11/dist-packages (from rich>=10.11.0->typer<1.0.0,>=0.3.0->spacy<3.8.0,>=3.7.0->de-core-news-sm==3.7.0) (2.18.0)\n",
            "Requirement already satisfied: wrapt in /usr/local/lib/python3.11/dist-packages (from smart-open<8.0.0,>=5.2.1->weasel<0.5.0,>=0.1.0->spacy<3.8.0,>=3.7.0->de-core-news-sm==3.7.0) (1.17.0)\n",
            "Requirement already satisfied: mdurl~=0.1 in /usr/local/lib/python3.11/dist-packages (from markdown-it-py>=2.2.0->rich>=10.11.0->typer<1.0.0,>=0.3.0->spacy<3.8.0,>=3.7.0->de-core-news-sm==3.7.0) (0.1.2)\n",
            "Installing collected packages: de-core-news-sm\n",
            "Successfully installed de-core-news-sm-3.7.0\n",
            "\u001b[38;5;2m✔ Download and installation successful\u001b[0m\n",
            "You can now load the package via spacy.load('de_core_news_sm')\n",
            "\u001b[38;5;3m⚠ Restart to reload dependencies\u001b[0m\n",
            "If you are in a Jupyter or Colab notebook, you may need to restart Python in\n",
            "order to load all the package's dependencies. You can do this by selecting the\n",
            "'Restart kernel' or 'Restart runtime' option.\n"
          ]
        }
      ],
      "source": [
        "!python -m spacy download en_core_web_sm\n",
        "!python -m spacy download de_core_news_sm"
      ]
    },
    {
      "cell_type": "markdown",
      "id": "Ym9rE7KFegJg",
      "metadata": {
        "id": "Ym9rE7KFegJg"
      },
      "source": [
        "# Loading data and libraries, and preparing the dataset\n",
        "\n",
        "\n",
        "\n",
        "\n",
        "\n",
        "\n",
        "\n",
        "\n",
        "\n"
      ]
    },
    {
      "cell_type": "code",
      "execution_count": 27,
      "id": "bgJNXKs_r-9D",
      "metadata": {
        "colab": {
          "base_uri": "https://localhost:8080/"
        },
        "id": "bgJNXKs_r-9D",
        "outputId": "28351777-aa46-4e41-99c7-dd3609a927fd"
      },
      "outputs": [
        {
          "name": "stdout",
          "output_type": "stream",
          "text": [
            "Using device: cuda\n",
            "Datasets loaded successfully.\n"
          ]
        }
      ],
      "source": [
        "import os\n",
        "import shutil\n",
        "import torch\n",
        "import torch.nn as nn\n",
        "import torch.optim as optim\n",
        "from torch.utils.data import Dataset, DataLoader\n",
        "import spacy\n",
        "from torchtext.data.utils import get_tokenizer\n",
        "from torchtext.vocab import build_vocab_from_iterator\n",
        "import matplotlib.pyplot as plt\n",
        "from nltk.translate.bleu_score import corpus_bleu\n",
        "import torchtext\n",
        "from torchtext.datasets import Multi30k\n",
        "from torchtext.data.functional import to_map_style_dataset\n",
        "from torchtext.datasets import multi30k, Multi30k\n",
        "\n",
        "# Check for GPU availability and set device\n",
        "device = torch.device('cuda' if torch.cuda.is_available() else 'cpu')\n",
        "print(f\"Using device: {device}\")\n",
        "\n",
        "# Update URLs to point to data stored by user\n",
        "multi30k.URL[\"train\"] = \"https://raw.githubusercontent.com/neychev/small_DL_repo/master/datasets/Multi30k/training.tar.gz\"\n",
        "multi30k.URL[\"valid\"] = \"https://raw.githubusercontent.com/neychev/small_DL_repo/master/datasets/Multi30k/validation.tar.gz\"\n",
        "multi30k.URL[\"test\"] = \"https://raw.githubusercontent.com/neychev/small_DL_repo/master/datasets/Multi30k/mmt_task1_test2016.tar.gz\"\n",
        "\n",
        "# Update hash since there is a discrepancy between user hosted test split and that of the test split in the original dataset\n",
        "multi30k.MD5[\"test\"] = \"876a95a689a2a20b243666951149fd42d9bfd57cbbf8cd2c79d3465451564dd2\"\n",
        "\n",
        "test = Multi30k(split='test', language_pair=('en', 'de'))\n",
        "train = Multi30k(split='train', language_pair=('en', 'de'))\n",
        "valid = Multi30k(split='valid', language_pair=('en', 'de'))\n",
        "\n",
        "# Step 3: Load dataset\n",
        "train_iter = to_map_style_dataset(train)[:2000]\n",
        "valid_iter = to_map_style_dataset(valid)[:2000]\n",
        "test_iter = to_map_style_dataset(test)\n",
        "print(\"Datasets loaded successfully.\")\n",
        "\n",
        "# Load spaCy models\n",
        "spacy_eng = spacy.load('en_core_web_sm')\n",
        "spacy_de = spacy.load('de_core_news_sm')\n",
        "\n",
        "# Tokenizers using spaCy\n",
        "def tokenize_en(text):\n",
        "    return [tok.text.lower() for tok in spacy_eng.tokenizer(text)]\n",
        "\n",
        "def tokenize_de(text):\n",
        "    return [tok.text.lower() for tok in spacy_de.tokenizer(text)]\n",
        "\n",
        "# Build vocabulary from training dataset\n",
        "def yield_tokens(data_iter, tokenizer):\n",
        "    for src, tgt in data_iter:\n",
        "        yield tokenizer(src)\n",
        "        yield tokenizer(tgt)\n",
        "\n",
        "SRC_TOKENIZER = tokenize_en\n",
        "TGT_TOKENIZER = tokenize_de\n",
        "\n",
        "SRC_VOCAB = build_vocab_from_iterator(yield_tokens(train_iter, SRC_TOKENIZER), specials=['<PAD>', '<UNK>', '<BOS>', '<EOS>'])\n",
        "SRC_VOCAB.set_default_index(SRC_VOCAB['<UNK>'])\n",
        "\n",
        "TGT_VOCAB = build_vocab_from_iterator(yield_tokens(train_iter, TGT_TOKENIZER), specials=['<PAD>', '<UNK>', '<BOS>', '<EOS>'])\n",
        "TGT_VOCAB.set_default_index(TGT_VOCAB['<UNK>'])\n",
        "\n",
        "# Parameters\n",
        "max_len = 50\n",
        "batch_size = 128\n",
        "num_epochs = 5\n",
        "learning_rate = 0.0001\n",
        "\n",
        "# Define Dataset\n",
        "class TranslationDataset(Dataset):\n",
        "    def __init__(self, data_iter, src_vocab, tgt_vocab, src_tokenizer, tgt_tokenizer, max_len):\n",
        "        self.data = list(data_iter)\n",
        "        self.src_vocab = src_vocab\n",
        "        self.tgt_vocab = tgt_vocab\n",
        "        self.src_tokenizer = src_tokenizer\n",
        "        self.tgt_tokenizer = tgt_tokenizer\n",
        "        self.max_len = max_len\n",
        "\n",
        "    def __len__(self):\n",
        "        return len(self.data)\n",
        "\n",
        "    def __getitem__(self, idx):\n",
        "        src, tgt = self.data[idx]\n",
        "        src_tokens = self.src_tokenizer(src)\n",
        "        tgt_tokens = self.tgt_tokenizer(tgt)\n",
        "\n",
        "        # Add <BOS> and <EOS>\n",
        "        src_tokens = ['<BOS>'] + src_tokens + ['<EOS>']\n",
        "        tgt_tokens = ['<BOS>'] + tgt_tokens + ['<EOS>']\n",
        "\n",
        "        # Truncate or pad\n",
        "        src_tokens = src_tokens[:self.max_len] + ['<PAD>'] * max(0, self.max_len - len(src_tokens))\n",
        "        tgt_tokens = tgt_tokens[:self.max_len] + ['<PAD>'] * max(0, self.max_len - len(tgt_tokens))\n",
        "\n",
        "        # Convert to indices\n",
        "        src_indices = [self.src_vocab[token] for token in src_tokens]\n",
        "        tgt_indices = [self.tgt_vocab[token] for token in tgt_tokens]\n",
        "\n",
        "        return torch.LongTensor(src_indices), torch.LongTensor(tgt_indices)\n"
      ]
    },
    {
      "cell_type": "code",
      "execution_count": 28,
      "id": "2f6ceeb2",
      "metadata": {
        "id": "2f6ceeb2"
      },
      "outputs": [],
      "source": [
        "# Define Datasets\n",
        "train_dataset = TranslationDataset(train_iter, SRC_VOCAB, TGT_VOCAB, SRC_TOKENIZER, TGT_TOKENIZER, max_len)\n",
        "valid_dataset = TranslationDataset(valid_iter, SRC_VOCAB, TGT_VOCAB, SRC_TOKENIZER, TGT_TOKENIZER, max_len)\n",
        "test_dataset = TranslationDataset(test_iter, SRC_VOCAB, TGT_VOCAB, SRC_TOKENIZER, TGT_TOKENIZER, max_len)\n",
        "\n",
        "# Define DataLoaders with pin_memory for faster GPU transfer\n",
        "train_loader = DataLoader(train_dataset, batch_size=batch_size, shuffle=True, pin_memory=True)\n",
        "valid_loader = DataLoader(valid_dataset, batch_size=batch_size, pin_memory=True)\n",
        "test_loader = DataLoader(test_dataset, batch_size=batch_size, pin_memory=True)"
      ]
    },
    {
      "cell_type": "markdown",
      "id": "fac0f0cc",
      "metadata": {
        "id": "fac0f0cc"
      },
      "source": [
        "## Define the Transformer model\n",
        "\n",
        "* Ensure you have defined the TransformerModel class appropriately\n",
        "\n",
        "* Example placeholder (replace with your actual model definition)"
      ]
    },
    {
      "cell_type": "code",
      "execution_count": 29,
      "id": "864397dc",
      "metadata": {
        "colab": {
          "base_uri": "https://localhost:8080/"
        },
        "id": "864397dc",
        "outputId": "15cd9972-3a1c-4074-8ccb-a3b350f89fd6"
      },
      "outputs": [
        {
          "name": "stdout",
          "output_type": "stream",
          "text": [
            "torch.Size([128, 50])\n",
            "torch.Size([128, 50])\n"
          ]
        }
      ],
      "source": [
        "print(next(iter(train_loader))[0].shape)\n",
        "print(next(iter(valid_loader))[0].shape)"
      ]
    },
    {
      "cell_type": "code",
      "execution_count": 30,
      "id": "OZQAJn97dBo2",
      "metadata": {
        "colab": {
          "base_uri": "https://localhost:8080/"
        },
        "id": "OZQAJn97dBo2",
        "outputId": "a6bac629-5aa4-4986-d7fd-030601011322"
      },
      "outputs": [
        {
          "name": "stdout",
          "output_type": "stream",
          "text": [
            "2000\n"
          ]
        }
      ],
      "source": [
        "print(len(train_dataset))"
      ]
    },
    {
      "cell_type": "markdown",
      "id": "jr4gJJswe1vt",
      "metadata": {
        "id": "jr4gJJswe1vt"
      },
      "source": [
        "## Defining the model using a pre-written class, training the model, and displaying the performance chart during training\n",
        "\n",
        "\n",
        "\n",
        "\n",
        "\n",
        "\n",
        "\n",
        "\n",
        "\n"
      ]
    },
    {
      "cell_type": "code",
      "execution_count": null,
      "id": "l8m_BgSxdAQH",
      "metadata": {
        "colab": {
          "base_uri": "https://localhost:8080/"
        },
        "id": "l8m_BgSxdAQH",
        "outputId": "23f788f1-0ef0-4d3f-f712-eb8f216d503a"
      },
      "outputs": [
        {
          "name": "stdout",
          "output_type": "stream",
          "text": [
            "5931\n",
            "6028\n"
          ]
        }
      ],
      "source": [
        "# Initialize model and move to device\n",
        "tgt_vocab_size = len(TGT_VOCAB)\n",
        "src_vocab_size = len(SRC_VOCAB)\n",
        "\n",
        "print(src_vocab_size)\n",
        "print(tgt_vocab_size)\n",
        "N_e = 6\n",
        "N_d = 6\n",
        "L = max_len\n",
        "d = 512\n",
        "h = 8\n",
        "d_ff = 2048\n",
        "\n",
        "model = TransformerModel(src_vocab_size=src_vocab_size,\n",
        "                         tgt_vocab_size=tgt_vocab_size,\n",
        "                         N_e=N_e,\n",
        "                         N_d=N_d,\n",
        "                         d_model=d,\n",
        "                         h=h,\n",
        "                         d_ff=d_ff,\n",
        "                         max_len=L).to(device)  # Move model to GPU\n",
        "\n",
        "# TODO:Define loss function and optimizer\n",
        "#criterion (Loss function)\n",
        "criterion = nn.CrossEntropyLoss()\n",
        "\n",
        "#optimizer (Optimizer)\n",
        "optimizer = optim.Adam(model.parameters(), lr=learning_rate)\n",
        "\n",
        "# Training the model\n",
        "loss_values = []"
      ]
    },
    {
      "cell_type": "markdown",
      "id": "5qugZUNpfskF",
      "metadata": {
        "id": "5qugZUNpfskF"
      },
      "source": [
        "batch size = 128, train-data-length = 2000"
      ]
    },
    {
      "cell_type": "code",
      "execution_count": 32,
      "id": "sG0D3uDIforw",
      "metadata": {
        "colab": {
          "base_uri": "https://localhost:8080/"
        },
        "id": "sG0D3uDIforw",
        "outputId": "c00f46d2-28dd-415e-e328-e5984d967aba"
      },
      "outputs": [
        {
          "name": "stdout",
          "output_type": "stream",
          "text": [
            "Epoch Loss: 8.6887\n",
            "Epoch Loss: 12.2946\n",
            "Epoch Loss: 15.2946\n",
            "Epoch Loss: 18.2025\n",
            "Epoch Loss: 21.0212\n",
            "Epoch Loss: 23.8671\n",
            "Epoch Loss: 26.6483\n",
            "Epoch Loss: 29.3825\n",
            "Epoch Loss: 31.9319\n",
            "Epoch Loss: 34.4233\n",
            "Epoch Loss: 36.8878\n",
            "Epoch Loss: 39.2792\n",
            "Epoch Loss: 41.5440\n",
            "Epoch Loss: 43.8440\n",
            "Epoch Loss: 46.0324\n",
            "Epoch Loss: 48.0603\n",
            "Epoch 1/5, Loss: 3.0038\n",
            "Epoch Loss: 2.0482\n",
            "Epoch Loss: 4.0391\n",
            "Epoch Loss: 5.9406\n",
            "Epoch Loss: 7.8327\n",
            "Epoch Loss: 9.6099\n",
            "Epoch Loss: 11.3838\n",
            "Epoch Loss: 13.2187\n",
            "Epoch Loss: 14.9191\n",
            "Epoch Loss: 16.6786\n",
            "Epoch Loss: 18.4620\n",
            "Epoch Loss: 20.2533\n",
            "Epoch Loss: 21.9822\n",
            "Epoch Loss: 23.7292\n",
            "Epoch Loss: 25.3860\n",
            "Epoch Loss: 27.0131\n",
            "Epoch Loss: 28.6732\n",
            "Epoch 2/5, Loss: 1.7921\n",
            "Epoch Loss: 1.5624\n",
            "Epoch Loss: 3.1070\n",
            "Epoch Loss: 4.6346\n",
            "Epoch Loss: 6.1921\n",
            "Epoch Loss: 7.6930\n",
            "Epoch Loss: 9.2370\n",
            "Epoch Loss: 10.7968\n",
            "Epoch Loss: 12.2965\n",
            "Epoch Loss: 13.8000\n",
            "Epoch Loss: 15.2916\n",
            "Epoch Loss: 16.7307\n",
            "Epoch Loss: 18.2434\n",
            "Epoch Loss: 19.6621\n",
            "Epoch Loss: 21.1581\n",
            "Epoch Loss: 22.6405\n",
            "Epoch Loss: 24.0653\n",
            "Epoch 3/5, Loss: 1.5041\n",
            "Epoch Loss: 1.3807\n",
            "Epoch Loss: 2.7981\n",
            "Epoch Loss: 4.1850\n",
            "Epoch Loss: 5.5913\n",
            "Epoch Loss: 7.0393\n",
            "Epoch Loss: 8.4298\n",
            "Epoch Loss: 9.7615\n",
            "Epoch Loss: 11.0689\n",
            "Epoch Loss: 12.4320\n",
            "Epoch Loss: 13.7513\n",
            "Epoch Loss: 15.0688\n",
            "Epoch Loss: 16.3813\n",
            "Epoch Loss: 17.7141\n",
            "Epoch Loss: 19.0350\n",
            "Epoch Loss: 20.3777\n",
            "Epoch Loss: 21.6228\n",
            "Epoch 4/5, Loss: 1.3514\n",
            "Epoch Loss: 1.2583\n",
            "Epoch Loss: 2.4932\n",
            "Epoch Loss: 3.6771\n",
            "Epoch Loss: 5.0135\n",
            "Epoch Loss: 6.3539\n",
            "Epoch Loss: 7.6778\n",
            "Epoch Loss: 8.9508\n",
            "Epoch Loss: 10.1261\n",
            "Epoch Loss: 11.3492\n",
            "Epoch Loss: 12.5946\n",
            "Epoch Loss: 13.8855\n",
            "Epoch Loss: 15.1301\n",
            "Epoch Loss: 16.4407\n",
            "Epoch Loss: 17.6787\n",
            "Epoch Loss: 19.0053\n",
            "Epoch Loss: 20.2811\n",
            "Epoch 5/5, Loss: 1.2676\n"
          ]
        }
      ],
      "source": [
        "for epoch in range(num_epochs):\n",
        "    model.train()\n",
        "    epoch_loss = 0\n",
        "    for src_batch, tgt_batch in train_loader:\n",
        "        # Move data to device\n",
        "        src_batch = src_batch.to(device)\n",
        "        tgt_batch = tgt_batch.to(device)\n",
        "\n",
        "        optimizer.zero_grad()\n",
        "\n",
        "        # Inputs and targets\n",
        "        src = src_batch.long()  # (batch, src_seq_len)\n",
        "        tgt = tgt_batch.long()\n",
        "\n",
        "        tgt_input = tgt_batch[:, :-1]  # (batch, tgt_seq_len -1)\n",
        "        tgt_output = tgt_batch[:, 1:]  # (batch, tgt_seq_len -1)\n",
        "\n",
        "        # TODO: Forward pass\n",
        "        output = model(src, tgt_input)\n",
        "\n",
        "        if output.shape[1] > tgt_output.shape[1]:\n",
        "            padding = output.shape[1] - tgt_output.shape[1]\n",
        "            tgt_output = torch.nn.functional.pad(tgt_output, (0, padding))\n",
        "\n",
        "        output = output.view(-1, output.size(-1))\n",
        "        tgt_output = tgt_output.contiguous().view(-1)\n",
        "\n",
        "        # TODO: Compute loss\n",
        "        loss = criterion(output, tgt_output)\n",
        "        loss.backward()\n",
        "        optimizer.step()\n",
        "        epoch_loss += loss.item()\n",
        "        print(f\"Epoch Loss: {epoch_loss:.4f}\")\n",
        "\n",
        "    avg_loss = epoch_loss / len(train_loader)\n",
        "    loss_values.append(avg_loss)\n",
        "    print(f\"Epoch {epoch+1}/{num_epochs}, Loss: {avg_loss:.4f}\")\n"
      ]
    },
    {
      "cell_type": "code",
      "execution_count": 33,
      "id": "qWf4vwe9f7ag",
      "metadata": {
        "colab": {
          "base_uri": "https://localhost:8080/",
          "height": 487
        },
        "id": "qWf4vwe9f7ag",
        "outputId": "f26abf82-958b-49c8-bc90-eb97121b7900"
      },
      "outputs": [
        {
          "data": {
            "image/png": "[encoded data removed]",
            "text/plain": [
              "<Figure size 1000x500 with 1 Axes>"
            ]
          },
          "metadata": {},
          "output_type": "display_data"
        }
      ],
      "source": [
        "epochs = range(1, num_epochs + 1)\n",
        "\n",
        "plt.figure(figsize=(10, 5))\n",
        "plt.plot(epochs, loss_values, label='Training Loss')\n",
        "plt.title('Training Loss over Epochs')\n",
        "plt.xlabel('Epochs')\n",
        "plt.ylabel('Loss')\n",
        "plt.legend()\n",
        "plt.grid(True)\n",
        "plt.show()"
      ]
    },
    {
      "cell_type": "markdown",
      "id": "UJz9vpFofilb",
      "metadata": {
        "id": "UJz9vpFofilb"
      },
      "source": [
        "batch size = 32, train-data-length = 1000"
      ]
    },
    {
      "cell_type": "code",
      "execution_count": 16,
      "id": "_6-uKtQYdDzv",
      "metadata": {
        "colab": {
          "base_uri": "https://localhost:8080/"
        },
        "id": "_6-uKtQYdDzv",
        "outputId": "43b9d847-feee-45eb-d777-f0226b20e205"
      },
      "outputs": [
        {
          "name": "stdout",
          "output_type": "stream",
          "text": [
            "Epoch Loss: 8.2870\n",
            "Epoch Loss: 12.2457\n",
            "Epoch Loss: 15.2994\n",
            "Epoch Loss: 18.2696\n",
            "Epoch Loss: 20.8730\n",
            "Epoch Loss: 23.4539\n",
            "Epoch Loss: 26.0275\n",
            "Epoch Loss: 28.3730\n",
            "Epoch Loss: 31.0168\n",
            "Epoch Loss: 33.3090\n",
            "Epoch Loss: 35.3954\n",
            "Epoch Loss: 37.4379\n",
            "Epoch Loss: 39.3929\n",
            "Epoch Loss: 41.2656\n",
            "Epoch Loss: 43.1125\n",
            "Epoch Loss: 44.9211\n",
            "Epoch Loss: 46.6113\n",
            "Epoch Loss: 48.4226\n",
            "Epoch Loss: 50.4686\n",
            "Epoch Loss: 52.1785\n",
            "Epoch Loss: 53.9118\n",
            "Epoch Loss: 55.6583\n",
            "Epoch Loss: 57.2539\n",
            "Epoch Loss: 58.9494\n",
            "Epoch Loss: 60.5608\n",
            "Epoch Loss: 62.2182\n",
            "Epoch Loss: 63.8722\n",
            "Epoch Loss: 65.4289\n",
            "Epoch Loss: 67.0279\n",
            "Epoch Loss: 68.7637\n",
            "Epoch Loss: 70.2803\n",
            "Epoch Loss: 71.6940\n",
            "Epoch 1/5, Loss: 2.2404\n",
            "Epoch Loss: 1.4946\n",
            "Epoch Loss: 2.8645\n",
            "Epoch Loss: 4.3231\n",
            "Epoch Loss: 6.1089\n",
            "Epoch Loss: 7.6625\n",
            "Epoch Loss: 9.2562\n",
            "Epoch Loss: 10.6972\n",
            "Epoch Loss: 12.1094\n",
            "Epoch Loss: 13.5707\n",
            "Epoch Loss: 14.8366\n",
            "Epoch Loss: 16.3376\n",
            "Epoch Loss: 17.8368\n",
            "Epoch Loss: 19.1506\n",
            "Epoch Loss: 20.8034\n",
            "Epoch Loss: 22.2616\n",
            "Epoch Loss: 23.7356\n",
            "Epoch Loss: 25.0678\n",
            "Epoch Loss: 26.3494\n",
            "Epoch Loss: 27.7833\n",
            "Epoch Loss: 29.1207\n",
            "Epoch Loss: 30.5283\n",
            "Epoch Loss: 31.8575\n",
            "Epoch Loss: 33.2286\n",
            "Epoch Loss: 34.5630\n",
            "Epoch Loss: 35.9494\n",
            "Epoch Loss: 37.3087\n",
            "Epoch Loss: 38.7084\n",
            "Epoch Loss: 40.0482\n",
            "Epoch Loss: 41.4277\n",
            "Epoch Loss: 42.6689\n",
            "Epoch Loss: 44.0092\n",
            "Epoch Loss: 45.1614\n",
            "Epoch 2/5, Loss: 1.4113\n",
            "Epoch Loss: 1.3370\n",
            "Epoch Loss: 2.5799\n",
            "Epoch Loss: 3.8308\n",
            "Epoch Loss: 5.1506\n",
            "Epoch Loss: 6.4823\n",
            "Epoch Loss: 7.8475\n",
            "Epoch Loss: 9.1400\n",
            "Epoch Loss: 10.4136\n",
            "Epoch Loss: 11.7572\n",
            "Epoch Loss: 13.0495\n",
            "Epoch Loss: 14.4051\n",
            "Epoch Loss: 15.7221\n",
            "Epoch Loss: 16.8686\n",
            "Epoch Loss: 18.1638\n",
            "Epoch Loss: 19.2912\n",
            "Epoch Loss: 20.5559\n",
            "Epoch Loss: 21.8422\n",
            "Epoch Loss: 23.0601\n",
            "Epoch Loss: 24.2322\n",
            "Epoch Loss: 25.4602\n",
            "Epoch Loss: 26.6862\n",
            "Epoch Loss: 27.8500\n",
            "Epoch Loss: 29.0418\n",
            "Epoch Loss: 30.2451\n",
            "Epoch Loss: 31.4851\n",
            "Epoch Loss: 32.7416\n",
            "Epoch Loss: 33.9229\n",
            "Epoch Loss: 35.2262\n",
            "Epoch Loss: 36.3791\n",
            "Epoch Loss: 37.5988\n",
            "Epoch Loss: 38.7810\n",
            "Epoch Loss: 40.3204\n",
            "Epoch 3/5, Loss: 1.2600\n",
            "Epoch Loss: 1.1894\n",
            "Epoch Loss: 2.3199\n",
            "Epoch Loss: 3.5575\n",
            "Epoch Loss: 4.6452\n",
            "Epoch Loss: 5.7651\n",
            "Epoch Loss: 7.0318\n",
            "Epoch Loss: 8.2024\n",
            "Epoch Loss: 9.4204\n",
            "Epoch Loss: 10.5730\n",
            "Epoch Loss: 11.9137\n",
            "Epoch Loss: 13.0993\n",
            "Epoch Loss: 14.2880\n",
            "Epoch Loss: 15.6462\n",
            "Epoch Loss: 16.6713\n",
            "Epoch Loss: 17.7656\n",
            "Epoch Loss: 18.9243\n",
            "Epoch Loss: 20.0094\n",
            "Epoch Loss: 21.1953\n",
            "Epoch Loss: 22.2612\n",
            "Epoch Loss: 23.3936\n",
            "Epoch Loss: 24.5657\n",
            "Epoch Loss: 25.6693\n",
            "Epoch Loss: 26.7077\n",
            "Epoch Loss: 27.8626\n",
            "Epoch Loss: 28.9868\n",
            "Epoch Loss: 30.1069\n",
            "Epoch Loss: 31.1415\n",
            "Epoch Loss: 32.2081\n",
            "Epoch Loss: 33.3531\n",
            "Epoch Loss: 34.3653\n",
            "Epoch Loss: 35.5495\n",
            "Epoch Loss: 36.6500\n",
            "Epoch 4/5, Loss: 1.1453\n",
            "Epoch Loss: 1.2434\n",
            "Epoch Loss: 2.2751\n",
            "Epoch Loss: 3.3292\n",
            "Epoch Loss: 4.3387\n",
            "Epoch Loss: 5.3267\n",
            "Epoch Loss: 6.3947\n",
            "Epoch Loss: 7.4644\n",
            "Epoch Loss: 8.6591\n",
            "Epoch Loss: 9.5607\n",
            "Epoch Loss: 10.6129\n",
            "Epoch Loss: 11.7883\n",
            "Epoch Loss: 12.7877\n",
            "Epoch Loss: 13.7168\n",
            "Epoch Loss: 14.6675\n",
            "Epoch Loss: 15.4294\n",
            "Epoch Loss: 16.4995\n",
            "Epoch Loss: 17.5194\n",
            "Epoch Loss: 18.5723\n",
            "Epoch Loss: 19.7245\n",
            "Epoch Loss: 20.7352\n",
            "Epoch Loss: 21.7943\n",
            "Epoch Loss: 22.7687\n",
            "Epoch Loss: 23.7766\n",
            "Epoch Loss: 24.8354\n",
            "Epoch Loss: 25.9986\n",
            "Epoch Loss: 26.9761\n",
            "Epoch Loss: 27.9298\n",
            "Epoch Loss: 29.0182\n",
            "Epoch Loss: 30.0228\n",
            "Epoch Loss: 31.1032\n",
            "Epoch Loss: 32.1837\n",
            "Epoch Loss: 33.2551\n",
            "Epoch 5/5, Loss: 1.0392\n"
          ]
        }
      ],
      "source": [
        "for epoch in range(num_epochs):\n",
        "    model.train()\n",
        "    epoch_loss = 0\n",
        "    for src_batch, tgt_batch in train_loader:\n",
        "        # Move data to device\n",
        "        src_batch = src_batch.to(device)\n",
        "        tgt_batch = tgt_batch.to(device)\n",
        "\n",
        "        optimizer.zero_grad()\n",
        "\n",
        "        # Inputs and targets\n",
        "        src = src_batch.long()  # (batch, src_seq_len)\n",
        "        tgt = tgt_batch.long()\n",
        "\n",
        "        tgt_input = tgt_batch[:, :-1]  # (batch, tgt_seq_len -1)\n",
        "        tgt_output = tgt_batch[:, 1:]  # (batch, tgt_seq_len -1)\n",
        "\n",
        "        # TODO: Forward pass\n",
        "        output = model(src, tgt_input)\n",
        "\n",
        "        if output.shape[1] > tgt_output.shape[1]:\n",
        "            padding = output.shape[1] - tgt_output.shape[1]\n",
        "            tgt_output = torch.nn.functional.pad(tgt_output, (0, padding))\n",
        "\n",
        "        output = output.view(-1, output.size(-1))\n",
        "        tgt_output = tgt_output.contiguous().view(-1)\n",
        "\n",
        "        # TODO: Compute loss\n",
        "        loss = criterion(output, tgt_output)\n",
        "        loss.backward()\n",
        "        optimizer.step()\n",
        "        epoch_loss += loss.item()\n",
        "        print(f\"Epoch Loss: {epoch_loss:.4f}\")\n",
        "\n",
        "    avg_loss = epoch_loss / len(train_loader)\n",
        "    loss_values.append(avg_loss)\n",
        "    print(f\"Epoch {epoch+1}/{num_epochs}, Loss: {avg_loss:.4f}\")\n"
      ]
    },
    {
      "cell_type": "code",
      "execution_count": 18,
      "id": "iD3S1Jgvdcr9",
      "metadata": {
        "colab": {
          "base_uri": "https://localhost:8080/",
          "height": 487
        },
        "id": "iD3S1Jgvdcr9",
        "outputId": "e0591b16-0203-4662-d352-9f4f13d9eb9b"
      },
      "outputs": [
        {
          "data": {
            "image/png": "[encoded data removed]",
            "text/plain": [
              "<Figure size 1000x500 with 1 Axes>"
            ]
          },
          "metadata": {},
          "output_type": "display_data"
        }
      ],
      "source": [
        "epochs = range(1, num_epochs + 1)\n",
        "\n",
        "plt.figure(figsize=(10, 5))\n",
        "plt.plot(epochs, loss_values, label='Training Loss')\n",
        "plt.title('Training Loss over Epochs')\n",
        "plt.xlabel('Epochs')\n",
        "plt.ylabel('Loss')\n",
        "plt.legend()\n",
        "plt.grid(True)\n",
        "plt.show()"
      ]
    },
    {
      "cell_type": "markdown",
      "id": "Q-W7OGoVefsi",
      "metadata": {
        "id": "Q-W7OGoVefsi"
      },
      "source": [
        "batch size = 4, train-data-length = 200"
      ]
    },
    {
      "cell_type": "code",
      "execution_count": 25,
      "id": "TCQxgq2tWvZ8",
      "metadata": {
        "colab": {
          "base_uri": "https://localhost:8080/"
        },
        "id": "TCQxgq2tWvZ8",
        "outputId": "9c3b5a7d-f8fa-43c4-be17-c1b38cbdf29c"
      },
      "outputs": [
        {
          "name": "stdout",
          "output_type": "stream",
          "text": [
            "Epoch Loss: 1.1627\n",
            "Epoch Loss: 2.8396\n",
            "Epoch Loss: 3.8786\n",
            "Epoch Loss: 5.1386\n",
            "Epoch Loss: 6.1183\n",
            "Epoch Loss: 7.4789\n",
            "Epoch Loss: 8.4866\n",
            "Epoch Loss: 9.4647\n",
            "Epoch Loss: 10.6394\n",
            "Epoch Loss: 11.9780\n",
            "Epoch Loss: 13.7256\n",
            "Epoch Loss: 15.1485\n",
            "Epoch Loss: 16.1337\n",
            "Epoch Loss: 17.6427\n",
            "Epoch Loss: 18.4917\n",
            "Epoch Loss: 20.7402\n",
            "Epoch Loss: 21.8545\n",
            "Epoch Loss: 23.3602\n",
            "Epoch Loss: 24.5252\n",
            "Epoch Loss: 25.9934\n",
            "Epoch Loss: 27.1805\n",
            "Epoch Loss: 28.4598\n",
            "Epoch Loss: 29.8338\n",
            "Epoch Loss: 31.1593\n",
            "Epoch Loss: 32.4161\n",
            "Epoch Loss: 34.0903\n",
            "Epoch Loss: 35.0985\n",
            "Epoch Loss: 36.6026\n",
            "Epoch Loss: 37.4450\n",
            "Epoch Loss: 38.4433\n",
            "Epoch Loss: 39.6770\n",
            "Epoch Loss: 40.7278\n",
            "Epoch Loss: 42.1588\n",
            "Epoch Loss: 43.5058\n",
            "Epoch Loss: 44.7151\n",
            "Epoch Loss: 46.3750\n",
            "Epoch Loss: 48.0179\n",
            "Epoch Loss: 49.4073\n",
            "Epoch Loss: 50.4367\n",
            "Epoch Loss: 51.4296\n",
            "Epoch Loss: 52.8151\n",
            "Epoch Loss: 53.7984\n",
            "Epoch Loss: 55.4420\n",
            "Epoch Loss: 57.3937\n",
            "Epoch Loss: 58.4498\n",
            "Epoch Loss: 59.9089\n",
            "Epoch Loss: 61.3607\n",
            "Epoch Loss: 62.4537\n",
            "Epoch Loss: 63.8059\n",
            "Epoch Loss: 64.8331\n",
            "Epoch 1/5, Loss: 1.2967\n",
            "Epoch Loss: 0.9936\n",
            "Epoch Loss: 2.4610\n",
            "Epoch Loss: 3.9567\n",
            "Epoch Loss: 5.0321\n",
            "Epoch Loss: 5.9551\n",
            "Epoch Loss: 7.0101\n",
            "Epoch Loss: 8.1659\n",
            "Epoch Loss: 9.4128\n",
            "Epoch Loss: 10.5060\n",
            "Epoch Loss: 11.5805\n",
            "Epoch Loss: 12.6137\n",
            "Epoch Loss: 13.6567\n",
            "Epoch Loss: 14.6992\n",
            "Epoch Loss: 15.8935\n",
            "Epoch Loss: 17.1224\n",
            "Epoch Loss: 18.4762\n",
            "Epoch Loss: 19.2108\n",
            "Epoch Loss: 20.6404\n",
            "Epoch Loss: 21.7881\n",
            "Epoch Loss: 22.9502\n",
            "Epoch Loss: 24.2795\n",
            "Epoch Loss: 25.3565\n",
            "Epoch Loss: 26.3337\n",
            "Epoch Loss: 27.2712\n",
            "Epoch Loss: 28.5614\n",
            "Epoch Loss: 29.6773\n",
            "Epoch Loss: 31.0484\n",
            "Epoch Loss: 32.0668\n",
            "Epoch Loss: 33.1772\n",
            "Epoch Loss: 34.2301\n",
            "Epoch Loss: 35.2607\n",
            "Epoch Loss: 36.4819\n",
            "Epoch Loss: 37.9417\n",
            "Epoch Loss: 39.2336\n",
            "Epoch Loss: 40.2718\n",
            "Epoch Loss: 41.3191\n",
            "Epoch Loss: 42.2665\n",
            "Epoch Loss: 43.2020\n",
            "Epoch Loss: 44.2490\n",
            "Epoch Loss: 45.5204\n",
            "Epoch Loss: 46.7301\n",
            "Epoch Loss: 48.1752\n",
            "Epoch Loss: 49.0952\n",
            "Epoch Loss: 49.7670\n",
            "Epoch Loss: 50.9215\n",
            "Epoch Loss: 52.1994\n",
            "Epoch Loss: 53.4544\n",
            "Epoch Loss: 54.4755\n",
            "Epoch Loss: 55.5159\n",
            "Epoch Loss: 56.5801\n",
            "Epoch 2/5, Loss: 1.1316\n",
            "Epoch Loss: 1.0827\n",
            "Epoch Loss: 1.9816\n",
            "Epoch Loss: 3.0453\n",
            "Epoch Loss: 3.7455\n",
            "Epoch Loss: 4.6257\n",
            "Epoch Loss: 5.3376\n",
            "Epoch Loss: 6.6598\n",
            "Epoch Loss: 7.7839\n",
            "Epoch Loss: 8.8699\n",
            "Epoch Loss: 9.6529\n",
            "Epoch Loss: 10.4603\n",
            "Epoch Loss: 11.3888\n",
            "Epoch Loss: 12.6066\n",
            "Epoch Loss: 13.6122\n",
            "Epoch Loss: 14.6568\n",
            "Epoch Loss: 15.5846\n",
            "Epoch Loss: 16.7655\n",
            "Epoch Loss: 18.0852\n",
            "Epoch Loss: 18.8778\n",
            "Epoch Loss: 20.2357\n",
            "Epoch Loss: 21.1928\n",
            "Epoch Loss: 22.1896\n",
            "Epoch Loss: 23.0529\n",
            "Epoch Loss: 24.1078\n",
            "Epoch Loss: 24.9547\n",
            "Epoch Loss: 25.6396\n",
            "Epoch Loss: 26.3479\n",
            "Epoch Loss: 27.2018\n",
            "Epoch Loss: 27.9825\n",
            "Epoch Loss: 28.9334\n",
            "Epoch Loss: 29.9115\n",
            "Epoch Loss: 30.4426\n",
            "Epoch Loss: 31.4137\n",
            "Epoch Loss: 32.5574\n",
            "Epoch Loss: 33.3176\n",
            "Epoch Loss: 34.4081\n",
            "Epoch Loss: 35.3566\n",
            "Epoch Loss: 36.0109\n",
            "Epoch Loss: 36.6461\n",
            "Epoch Loss: 37.3775\n",
            "Epoch Loss: 38.7076\n",
            "Epoch Loss: 39.7010\n",
            "Epoch Loss: 40.6379\n",
            "Epoch Loss: 41.9800\n",
            "Epoch Loss: 43.0965\n",
            "Epoch Loss: 44.0628\n",
            "Epoch Loss: 45.4541\n",
            "Epoch Loss: 46.5442\n",
            "Epoch Loss: 47.5499\n",
            "Epoch Loss: 48.5585\n",
            "Epoch 3/5, Loss: 0.9712\n",
            "Epoch Loss: 0.6289\n",
            "Epoch Loss: 1.1854\n",
            "Epoch Loss: 2.2956\n",
            "Epoch Loss: 3.3547\n",
            "Epoch Loss: 4.1901\n",
            "Epoch Loss: 4.8415\n",
            "Epoch Loss: 5.4625\n",
            "Epoch Loss: 6.3581\n",
            "Epoch Loss: 7.1139\n",
            "Epoch Loss: 7.9333\n",
            "Epoch Loss: 8.5415\n",
            "Epoch Loss: 9.3434\n",
            "Epoch Loss: 10.0427\n",
            "Epoch Loss: 10.8777\n",
            "Epoch Loss: 11.5233\n",
            "Epoch Loss: 12.2749\n",
            "Epoch Loss: 12.9746\n",
            "Epoch Loss: 13.5893\n",
            "Epoch Loss: 14.2707\n",
            "Epoch Loss: 15.2192\n",
            "Epoch Loss: 16.0947\n",
            "Epoch Loss: 16.9765\n",
            "Epoch Loss: 17.6944\n",
            "Epoch Loss: 18.5136\n",
            "Epoch Loss: 19.3437\n",
            "Epoch Loss: 20.2473\n",
            "Epoch Loss: 21.0644\n",
            "Epoch Loss: 21.9084\n",
            "Epoch Loss: 22.9125\n",
            "Epoch Loss: 23.3718\n",
            "Epoch Loss: 24.0453\n",
            "Epoch Loss: 24.7285\n",
            "Epoch Loss: 25.4104\n",
            "Epoch Loss: 26.1325\n",
            "Epoch Loss: 27.0347\n",
            "Epoch Loss: 28.0993\n",
            "Epoch Loss: 28.9643\n",
            "Epoch Loss: 29.8431\n",
            "Epoch Loss: 30.9477\n",
            "Epoch Loss: 31.9267\n",
            "Epoch Loss: 32.6423\n",
            "Epoch Loss: 33.8043\n",
            "Epoch Loss: 34.5232\n",
            "Epoch Loss: 35.4684\n",
            "Epoch Loss: 36.3006\n",
            "Epoch Loss: 36.9983\n",
            "Epoch Loss: 37.7571\n",
            "Epoch Loss: 38.5645\n",
            "Epoch Loss: 39.5229\n",
            "Epoch Loss: 40.4431\n",
            "Epoch 4/5, Loss: 0.8089\n",
            "Epoch Loss: 0.6044\n",
            "Epoch Loss: 1.2472\n",
            "Epoch Loss: 1.7537\n",
            "Epoch Loss: 2.4053\n",
            "Epoch Loss: 2.8958\n",
            "Epoch Loss: 3.4834\n",
            "Epoch Loss: 3.8618\n",
            "Epoch Loss: 4.6561\n",
            "Epoch Loss: 5.3043\n",
            "Epoch Loss: 6.1936\n",
            "Epoch Loss: 6.6977\n",
            "Epoch Loss: 7.1496\n",
            "Epoch Loss: 7.7233\n",
            "Epoch Loss: 8.4511\n",
            "Epoch Loss: 9.1129\n",
            "Epoch Loss: 9.6460\n",
            "Epoch Loss: 10.1892\n",
            "Epoch Loss: 10.8255\n",
            "Epoch Loss: 11.7318\n",
            "Epoch Loss: 12.4376\n",
            "Epoch Loss: 13.0743\n",
            "Epoch Loss: 13.6700\n",
            "Epoch Loss: 14.3723\n",
            "Epoch Loss: 14.8619\n",
            "Epoch Loss: 15.4028\n",
            "Epoch Loss: 15.9567\n",
            "Epoch Loss: 16.7399\n",
            "Epoch Loss: 17.6118\n",
            "Epoch Loss: 18.5190\n",
            "Epoch Loss: 19.4489\n",
            "Epoch Loss: 20.1509\n",
            "Epoch Loss: 20.8303\n",
            "Epoch Loss: 21.3314\n",
            "Epoch Loss: 21.9328\n",
            "Epoch Loss: 22.4763\n",
            "Epoch Loss: 22.8489\n",
            "Epoch Loss: 23.6030\n",
            "Epoch Loss: 24.2804\n",
            "Epoch Loss: 25.4565\n",
            "Epoch Loss: 26.1037\n",
            "Epoch Loss: 26.8872\n",
            "Epoch Loss: 27.6450\n",
            "Epoch Loss: 28.5816\n",
            "Epoch Loss: 29.2245\n",
            "Epoch Loss: 30.0570\n",
            "Epoch Loss: 30.8732\n",
            "Epoch Loss: 31.4821\n",
            "Epoch Loss: 32.0729\n",
            "Epoch Loss: 32.8320\n",
            "Epoch Loss: 33.4254\n",
            "Epoch 5/5, Loss: 0.6685\n"
          ]
        }
      ],
      "source": [
        "for epoch in range(num_epochs):\n",
        "    model.train()\n",
        "    epoch_loss = 0\n",
        "    for src_batch, tgt_batch in train_loader:\n",
        "        # Move data to device\n",
        "        src_batch = src_batch.to(device)\n",
        "        tgt_batch = tgt_batch.to(device)\n",
        "\n",
        "        optimizer.zero_grad()\n",
        "\n",
        "        # Inputs and targets\n",
        "        src = src_batch.long()  # (batch, src_seq_len)\n",
        "        tgt = tgt_batch.long()\n",
        "\n",
        "        tgt_input = tgt_batch[:, :-1]  # (batch, tgt_seq_len -1)\n",
        "        tgt_output = tgt_batch[:, 1:]  # (batch, tgt_seq_len -1)\n",
        "\n",
        "        # TODO: Forward pass\n",
        "        output = model(src, tgt_input)\n",
        "\n",
        "        if output.shape[1] > tgt_output.shape[1]:\n",
        "            padding = output.shape[1] - tgt_output.shape[1]\n",
        "            tgt_output = torch.nn.functional.pad(tgt_output, (0, padding))\n",
        "\n",
        "        output = output.view(-1, output.size(-1))\n",
        "        tgt_output = tgt_output.contiguous().view(-1)\n",
        "\n",
        "        # TODO: Compute loss\n",
        "        loss = criterion(output, tgt_output)\n",
        "        loss.backward()\n",
        "        optimizer.step()\n",
        "        epoch_loss += loss.item()\n",
        "        print(f\"Epoch Loss: {epoch_loss:.4f}\")\n",
        "\n",
        "    avg_loss = epoch_loss / len(train_loader)\n",
        "    loss_values.append(avg_loss)\n",
        "    print(f\"Epoch {epoch+1}/{num_epochs}, Loss: {avg_loss:.4f}\")\n"
      ]
    },
    {
      "cell_type": "markdown",
      "id": "q5cyZQmpUQ5F",
      "metadata": {
        "id": "q5cyZQmpUQ5F"
      },
      "source": [
        "### TODO: Plotting the loss curve\n"
      ]
    },
    {
      "cell_type": "code",
      "execution_count": 26,
      "id": "Q-yo5ZU5fXxC",
      "metadata": {
        "colab": {
          "base_uri": "https://localhost:8080/",
          "height": 487
        },
        "id": "Q-yo5ZU5fXxC",
        "outputId": "1207dfce-f38d-4da1-9db9-48c3c7dc6d5d"
      },
      "outputs": [
        {
          "data": {
            "image/png": "[encoded data removed]",
            "text/plain": [
              "<Figure size 1000x500 with 1 Axes>"
            ]
          },
          "metadata": {},
          "output_type": "display_data"
        }
      ],
      "source": [
        "epochs = range(1, num_epochs + 1)\n",
        "\n",
        "plt.figure(figsize=(10, 5))\n",
        "plt.plot(epochs, loss_values, label='Training Loss')\n",
        "plt.title('Training Loss over Epochs')\n",
        "plt.xlabel('Epochs')\n",
        "plt.ylabel('Loss')\n",
        "plt.legend()\n",
        "plt.grid(True)\n",
        "plt.show()"
      ]
    },
    {
      "cell_type": "code",
      "execution_count": null,
      "id": "f6f56530",
      "metadata": {
        "colab": {
          "base_uri": "https://localhost:8080/"
        },
        "id": "f6f56530",
        "outputId": "13ab886e-96aa-4097-ad39-bae914358592"
      },
      "outputs": [
        {
          "name": "stdout",
          "output_type": "stream",
          "text": [
            "Vocabulary size: 1400\n"
          ]
        }
      ],
      "source": [
        "print(f\"Vocabulary size: {len(SRC_VOCAB)}\")\n"
      ]
    },
    {
      "cell_type": "code",
      "execution_count": null,
      "id": "b72bf7c0",
      "metadata": {
        "colab": {
          "base_uri": "https://localhost:8080/"
        },
        "id": "b72bf7c0",
        "outputId": "f745ff21-7252-40a6-c7ac-790b690a2f23"
      },
      "outputs": [
        {
          "data": {
            "text/plain": [
              "3906"
            ]
          },
          "execution_count": 15,
          "metadata": {},
          "output_type": "execute_result"
        }
      ],
      "source": [
        "model.src_embedding.num_embeddings"
      ]
    }
  ],
  "metadata": {
    "accelerator": "GPU",
    "colab": {
      "gpuType": "T4",
      "provenance": []
    },
    "kernelspec": {
      "display_name": "Python 3",
      "name": "python3"
    },
    "language_info": {
      "codemirror_mode": {
        "name": "ipython",
        "version": 3
      },
      "file_extension": ".py",
      "mimetype": "text/x-python",
      "name": "python",
      "nbconvert_exporter": "python",
      "pygments_lexer": "ipython3",
      "version": "3.9.4"
    }
  },
  "nbformat": 4,
  "nbformat_minor": 5
}
